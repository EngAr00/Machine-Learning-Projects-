{
  "nbformat": 4,
  "nbformat_minor": 0,
  "metadata": {
    "colab": {
      "provenance": []
    },
    "kernelspec": {
      "name": "python3",
      "display_name": "Python 3"
    }
  },
  "cells": [
    {
      "cell_type": "markdown",
      "metadata": {
        "id": "r3cas2_1T98w"
      },
      "source": [
        "# Decision Tree Regression"
      ]
    },
    {
      "cell_type": "markdown",
      "metadata": {
        "id": "IODliia6U1xO"
      },
      "source": [
        "## Importing the libraries"
      ]
    },
    {
      "cell_type": "code",
      "metadata": {
        "id": "y98nA5UdU6Hf"
      },
      "source": [
        "import numpy as np\n",
        "import matplotlib.pyplot as plt\n",
        "import pandas as pd"
      ],
      "execution_count": 1,
      "outputs": []
    },
    {
      "cell_type": "markdown",
      "metadata": {
        "id": "jpjZ43YlU8eI"
      },
      "source": [
        "## Importing the dataset"
      ]
    },
    {
      "cell_type": "code",
      "metadata": {
        "id": "pLVaXoYVU_Uy"
      },
      "source": [
        "dataset = pd.read_csv('/content/sample_data/TSLA.csv')\n",
        "X = dataset.iloc[:, 1:-1].values\n",
        "y = dataset.iloc[:, -1].values"
      ],
      "execution_count": 2,
      "outputs": []
    },
    {
      "cell_type": "markdown",
      "metadata": {
        "id": "tPJXMyyUJbWn"
      },
      "source": [
        "## Splitting the dataset into the Training set and Test set"
      ]
    },
    {
      "cell_type": "code",
      "metadata": {
        "id": "rFOzpjaiJd5B"
      },
      "source": [
        "from sklearn.model_selection import train_test_split\n",
        "X_train, X_test, y_train, y_test = train_test_split(X, y, test_size = 0.2, random_state = 0)"
      ],
      "execution_count": 3,
      "outputs": []
    },
    {
      "cell_type": "markdown",
      "metadata": {
        "id": "g16qFkFQVC35"
      },
      "source": [
        "## Training the Decision Tree Regression model on the Training set"
      ]
    },
    {
      "cell_type": "code",
      "metadata": {
        "id": "SLDKyv1SVUqS",
        "colab": {
          "base_uri": "https://localhost:8080/",
          "height": 74
        },
        "outputId": "2ff8204c-ed2b-4b7f-c574-a16facbc998c"
      },
      "source": [
        "from sklearn.tree import DecisionTreeRegressor\n",
        "regressor = DecisionTreeRegressor(random_state = 0)\n",
        "regressor.fit(X_train, y_train)"
      ],
      "execution_count": 4,
      "outputs": [
        {
          "output_type": "execute_result",
          "data": {
            "text/plain": [
              "DecisionTreeRegressor(random_state=0)"
            ],
            "text/html": [
              "<style>#sk-container-id-1 {color: black;background-color: white;}#sk-container-id-1 pre{padding: 0;}#sk-container-id-1 div.sk-toggleable {background-color: white;}#sk-container-id-1 label.sk-toggleable__label {cursor: pointer;display: block;width: 100%;margin-bottom: 0;padding: 0.3em;box-sizing: border-box;text-align: center;}#sk-container-id-1 label.sk-toggleable__label-arrow:before {content: \"▸\";float: left;margin-right: 0.25em;color: #696969;}#sk-container-id-1 label.sk-toggleable__label-arrow:hover:before {color: black;}#sk-container-id-1 div.sk-estimator:hover label.sk-toggleable__label-arrow:before {color: black;}#sk-container-id-1 div.sk-toggleable__content {max-height: 0;max-width: 0;overflow: hidden;text-align: left;background-color: #f0f8ff;}#sk-container-id-1 div.sk-toggleable__content pre {margin: 0.2em;color: black;border-radius: 0.25em;background-color: #f0f8ff;}#sk-container-id-1 input.sk-toggleable__control:checked~div.sk-toggleable__content {max-height: 200px;max-width: 100%;overflow: auto;}#sk-container-id-1 input.sk-toggleable__control:checked~label.sk-toggleable__label-arrow:before {content: \"▾\";}#sk-container-id-1 div.sk-estimator input.sk-toggleable__control:checked~label.sk-toggleable__label {background-color: #d4ebff;}#sk-container-id-1 div.sk-label input.sk-toggleable__control:checked~label.sk-toggleable__label {background-color: #d4ebff;}#sk-container-id-1 input.sk-hidden--visually {border: 0;clip: rect(1px 1px 1px 1px);clip: rect(1px, 1px, 1px, 1px);height: 1px;margin: -1px;overflow: hidden;padding: 0;position: absolute;width: 1px;}#sk-container-id-1 div.sk-estimator {font-family: monospace;background-color: #f0f8ff;border: 1px dotted black;border-radius: 0.25em;box-sizing: border-box;margin-bottom: 0.5em;}#sk-container-id-1 div.sk-estimator:hover {background-color: #d4ebff;}#sk-container-id-1 div.sk-parallel-item::after {content: \"\";width: 100%;border-bottom: 1px solid gray;flex-grow: 1;}#sk-container-id-1 div.sk-label:hover label.sk-toggleable__label {background-color: #d4ebff;}#sk-container-id-1 div.sk-serial::before {content: \"\";position: absolute;border-left: 1px solid gray;box-sizing: border-box;top: 0;bottom: 0;left: 50%;z-index: 0;}#sk-container-id-1 div.sk-serial {display: flex;flex-direction: column;align-items: center;background-color: white;padding-right: 0.2em;padding-left: 0.2em;position: relative;}#sk-container-id-1 div.sk-item {position: relative;z-index: 1;}#sk-container-id-1 div.sk-parallel {display: flex;align-items: stretch;justify-content: center;background-color: white;position: relative;}#sk-container-id-1 div.sk-item::before, #sk-container-id-1 div.sk-parallel-item::before {content: \"\";position: absolute;border-left: 1px solid gray;box-sizing: border-box;top: 0;bottom: 0;left: 50%;z-index: -1;}#sk-container-id-1 div.sk-parallel-item {display: flex;flex-direction: column;z-index: 1;position: relative;background-color: white;}#sk-container-id-1 div.sk-parallel-item:first-child::after {align-self: flex-end;width: 50%;}#sk-container-id-1 div.sk-parallel-item:last-child::after {align-self: flex-start;width: 50%;}#sk-container-id-1 div.sk-parallel-item:only-child::after {width: 0;}#sk-container-id-1 div.sk-dashed-wrapped {border: 1px dashed gray;margin: 0 0.4em 0.5em 0.4em;box-sizing: border-box;padding-bottom: 0.4em;background-color: white;}#sk-container-id-1 div.sk-label label {font-family: monospace;font-weight: bold;display: inline-block;line-height: 1.2em;}#sk-container-id-1 div.sk-label-container {text-align: center;}#sk-container-id-1 div.sk-container {/* jupyter's `normalize.less` sets `[hidden] { display: none; }` but bootstrap.min.css set `[hidden] { display: none !important; }` so we also need the `!important` here to be able to override the default hidden behavior on the sphinx rendered scikit-learn.org. See: https://github.com/scikit-learn/scikit-learn/issues/21755 */display: inline-block !important;position: relative;}#sk-container-id-1 div.sk-text-repr-fallback {display: none;}</style><div id=\"sk-container-id-1\" class=\"sk-top-container\"><div class=\"sk-text-repr-fallback\"><pre>DecisionTreeRegressor(random_state=0)</pre><b>In a Jupyter environment, please rerun this cell to show the HTML representation or trust the notebook. <br />On GitHub, the HTML representation is unable to render, please try loading this page with nbviewer.org.</b></div><div class=\"sk-container\" hidden><div class=\"sk-item\"><div class=\"sk-estimator sk-toggleable\"><input class=\"sk-toggleable__control sk-hidden--visually\" id=\"sk-estimator-id-1\" type=\"checkbox\" checked><label for=\"sk-estimator-id-1\" class=\"sk-toggleable__label sk-toggleable__label-arrow\">DecisionTreeRegressor</label><div class=\"sk-toggleable__content\"><pre>DecisionTreeRegressor(random_state=0)</pre></div></div></div></div></div>"
            ]
          },
          "metadata": {},
          "execution_count": 4
        }
      ]
    },
    {
      "cell_type": "markdown",
      "metadata": {
        "id": "Nao9cdO6IgNb"
      },
      "source": [
        "## Predicting the Test set results"
      ]
    },
    {
      "cell_type": "code",
      "metadata": {
        "id": "EebHA3EOIkQK",
        "colab": {
          "base_uri": "https://localhost:8080/"
        },
        "outputId": "099f8cd5-639e-4f77-9fba-7ead74f90d93"
      },
      "source": [
        "y_pred = regressor.predict(X_test)\n",
        "np.set_printoptions(precision=2)\n",
        "print(np.concatenate((y_pred.reshape(len(y_pred),1), y_test.reshape(len(y_test),1)),1))"
      ],
      "execution_count": 5,
      "outputs": [
        {
          "output_type": "stream",
          "name": "stdout",
          "text": [
            "[[1.13e+07 2.39e+07]\n",
            " [5.08e+07 1.16e+08]\n",
            " [1.74e+07 2.14e+07]\n",
            " [2.47e+07 7.15e+07]\n",
            " [3.18e+07 2.06e+07]\n",
            " [3.41e+07 1.86e+07]\n",
            " [2.39e+07 2.91e+07]\n",
            " [2.93e+07 6.54e+07]\n",
            " [3.47e+07 2.27e+07]\n",
            " [4.41e+07 4.00e+07]\n",
            " [3.68e+07 1.84e+07]\n",
            " [2.53e+07 4.08e+07]\n",
            " [7.37e+07 6.56e+07]\n",
            " [4.85e+07 5.42e+07]\n",
            " [7.54e+07 4.64e+07]\n",
            " [3.62e+07 4.63e+07]\n",
            " [3.90e+07 4.99e+07]\n",
            " [5.20e+07 3.92e+07]\n",
            " [2.13e+07 1.61e+07]\n",
            " [2.10e+07 3.32e+07]\n",
            " [6.61e+07 7.08e+07]\n",
            " [6.52e+07 3.51e+07]\n",
            " [1.61e+07 5.83e+07]\n",
            " [3.55e+07 2.54e+07]\n",
            " [5.80e+07 3.38e+07]\n",
            " [2.31e+07 3.27e+07]\n",
            " [1.14e+08 6.48e+07]\n",
            " [8.53e+07 5.43e+07]\n",
            " [3.38e+07 3.00e+07]\n",
            " [2.96e+07 3.42e+07]\n",
            " [2.53e+07 2.76e+07]\n",
            " [2.86e+07 4.21e+07]\n",
            " [4.47e+07 3.73e+07]\n",
            " [1.55e+07 3.50e+07]\n",
            " [4.97e+07 5.32e+07]\n",
            " [1.23e+07 2.78e+07]\n",
            " [3.11e+07 4.21e+07]\n",
            " [3.28e+07 3.14e+07]\n",
            " [2.84e+07 3.91e+07]\n",
            " [6.03e+07 4.45e+07]\n",
            " [4.85e+07 3.83e+07]\n",
            " [3.22e+07 2.84e+07]\n",
            " [7.80e+07 1.18e+08]\n",
            " [2.94e+07 3.38e+07]\n",
            " [6.59e+07 6.75e+07]\n",
            " [1.03e+07 8.94e+06]\n",
            " [2.16e+07 2.33e+07]\n",
            " [4.37e+07 7.23e+07]\n",
            " [4.24e+07 1.94e+07]\n",
            " [2.94e+07 2.40e+07]\n",
            " [1.02e+08 6.29e+07]\n",
            " [3.41e+07 4.27e+07]\n",
            " [9.45e+07 1.13e+08]\n",
            " [3.96e+07 2.13e+07]\n",
            " [2.84e+07 5.17e+07]\n",
            " [7.17e+07 3.97e+07]\n",
            " [3.76e+07 7.10e+07]\n",
            " [3.62e+07 2.01e+07]\n",
            " [2.82e+07 1.16e+07]\n",
            " [1.97e+07 2.82e+07]\n",
            " [3.18e+07 2.51e+07]\n",
            " [3.68e+07 3.12e+07]\n",
            " [8.24e+07 9.66e+07]\n",
            " [4.06e+07 4.59e+07]\n",
            " [4.39e+07 2.47e+07]\n",
            " [1.41e+08 1.20e+08]\n",
            " [3.18e+07 4.95e+07]\n",
            " [3.55e+07 2.81e+07]\n",
            " [2.57e+07 1.58e+07]\n",
            " [2.86e+07 4.65e+07]\n",
            " [2.47e+07 2.07e+07]\n",
            " [1.80e+07 2.87e+07]\n",
            " [8.64e+07 1.18e+08]\n",
            " [1.90e+07 2.20e+07]\n",
            " [2.36e+07 1.53e+07]\n",
            " [8.64e+07 9.73e+07]\n",
            " [3.36e+07 2.59e+07]\n",
            " [5.06e+07 3.80e+07]\n",
            " [4.45e+07 3.17e+07]\n",
            " [1.83e+07 2.94e+07]\n",
            " [2.55e+07 2.70e+07]\n",
            " [2.98e+07 3.63e+07]\n",
            " [3.37e+07 2.87e+07]\n",
            " [1.07e+08 5.86e+07]\n",
            " [2.78e+07 5.42e+07]\n",
            " [3.23e+07 3.25e+07]\n",
            " [3.44e+07 3.28e+07]\n",
            " [1.68e+08 8.97e+07]\n",
            " [4.66e+07 4.71e+07]\n",
            " [2.08e+07 2.83e+07]\n",
            " [2.86e+07 2.27e+07]\n",
            " [3.29e+07 5.03e+07]\n",
            " [1.27e+08 8.38e+07]\n",
            " [7.37e+07 7.52e+07]\n",
            " [3.48e+07 4.00e+07]\n",
            " [8.64e+07 1.09e+08]\n",
            " [2.83e+07 2.16e+07]\n",
            " [2.87e+07 2.31e+07]\n",
            " [3.11e+07 4.97e+07]\n",
            " [2.69e+07 3.19e+07]\n",
            " [1.15e+08 4.80e+07]\n",
            " [7.51e+07 2.43e+07]\n",
            " [2.02e+07 1.88e+07]\n",
            " [5.78e+07 5.54e+07]\n",
            " [2.99e+07 1.09e+08]\n",
            " [2.73e+07 6.90e+07]\n",
            " [3.74e+07 4.01e+07]\n",
            " [2.59e+07 3.90e+07]\n",
            " [1.12e+08 1.05e+08]\n",
            " [3.28e+07 2.56e+07]\n",
            " [4.32e+07 4.00e+07]\n",
            " [6.59e+07 3.50e+07]\n",
            " [9.53e+07 5.77e+07]\n",
            " [3.22e+07 2.71e+07]\n",
            " [4.74e+07 2.81e+07]\n",
            " [2.36e+07 2.10e+07]\n",
            " [7.39e+07 4.72e+07]\n",
            " [3.47e+07 3.04e+07]\n",
            " [4.15e+07 3.49e+07]\n",
            " [8.89e+07 5.07e+07]\n",
            " [1.61e+07 2.96e+07]\n",
            " [5.50e+07 3.67e+07]\n",
            " [4.34e+07 3.18e+07]\n",
            " [2.18e+07 2.52e+07]\n",
            " [3.44e+07 2.82e+07]\n",
            " [6.94e+07 2.18e+07]\n",
            " [2.98e+07 2.11e+07]\n",
            " [7.03e+07 7.96e+07]\n",
            " [3.09e+07 1.12e+07]\n",
            " [4.29e+07 5.50e+07]\n",
            " [4.18e+07 2.37e+07]\n",
            " [3.68e+07 4.89e+07]\n",
            " [2.36e+07 2.92e+07]\n",
            " [3.43e+07 2.88e+07]\n",
            " [5.89e+07 9.83e+07]\n",
            " [6.94e+07 3.17e+07]\n",
            " [2.27e+07 7.96e+07]\n",
            " [2.41e+07 1.61e+07]\n",
            " [4.96e+07 2.71e+07]\n",
            " [4.60e+07 5.02e+07]\n",
            " [3.98e+07 3.15e+07]\n",
            " [3.33e+07 3.88e+07]\n",
            " [3.00e+07 2.99e+07]\n",
            " [2.80e+07 4.98e+07]\n",
            " [5.26e+07 4.19e+07]\n",
            " [1.78e+07 2.33e+07]\n",
            " [2.74e+07 2.55e+07]\n",
            " [3.13e+07 2.95e+07]\n",
            " [4.15e+07 5.23e+07]\n",
            " [2.08e+07 3.72e+07]\n",
            " [3.52e+07 3.22e+07]\n",
            " [1.10e+08 8.30e+07]\n",
            " [2.10e+07 2.14e+07]\n",
            " [2.80e+07 2.51e+07]\n",
            " [8.24e+07 6.10e+07]\n",
            " [7.54e+07 2.42e+07]\n",
            " [4.28e+07 1.12e+08]\n",
            " [1.01e+08 1.63e+08]\n",
            " [2.81e+07 2.75e+07]\n",
            " [6.30e+07 4.42e+07]\n",
            " [1.54e+08 9.09e+07]\n",
            " [6.66e+07 7.86e+07]\n",
            " [4.85e+07 3.92e+07]\n",
            " [1.00e+08 3.57e+07]\n",
            " [3.65e+07 4.99e+07]\n",
            " [3.80e+07 2.52e+07]\n",
            " [3.80e+07 5.10e+07]\n",
            " [3.81e+07 2.77e+07]\n",
            " [6.52e+07 2.97e+07]\n",
            " [3.33e+07 5.93e+07]\n",
            " [4.28e+07 3.03e+07]\n",
            " [4.85e+07 4.23e+07]\n",
            " [6.43e+07 5.63e+07]\n",
            " [4.05e+07 8.36e+07]\n",
            " [1.12e+08 4.69e+07]\n",
            " [2.34e+07 5.13e+07]\n",
            " [2.40e+07 1.65e+07]\n",
            " [1.64e+07 1.77e+07]\n",
            " [3.05e+07 4.03e+07]\n",
            " [8.94e+07 1.02e+08]\n",
            " [2.17e+07 2.89e+07]\n",
            " [8.52e+07 3.47e+07]\n",
            " [6.03e+07 6.76e+07]\n",
            " [3.72e+07 3.45e+07]\n",
            " [3.18e+07 3.28e+07]\n",
            " [4.34e+07 3.50e+07]\n",
            " [3.18e+07 2.58e+07]\n",
            " [6.07e+07 8.49e+07]\n",
            " [1.17e+08 8.02e+07]\n",
            " [3.75e+07 3.70e+07]\n",
            " [2.72e+07 4.51e+07]\n",
            " [2.19e+07 3.23e+07]\n",
            " [2.25e+07 2.65e+07]\n",
            " [2.16e+07 2.78e+07]\n",
            " [7.51e+07 4.12e+07]\n",
            " [2.34e+07 1.22e+07]\n",
            " [3.08e+07 4.59e+07]\n",
            " [2.30e+07 4.88e+07]\n",
            " [4.04e+07 4.08e+07]\n",
            " [2.53e+07 2.29e+07]\n",
            " [2.31e+07 3.17e+07]\n",
            " [3.84e+07 3.98e+07]\n",
            " [3.90e+07 2.44e+07]\n",
            " [2.35e+07 2.84e+07]\n",
            " [2.84e+07 7.09e+07]\n",
            " [6.61e+07 6.62e+07]\n",
            " [7.12e+07 7.68e+07]\n",
            " [3.41e+07 2.84e+07]\n",
            " [1.13e+08 6.68e+07]\n",
            " [8.89e+07 7.60e+07]\n",
            " [2.91e+07 3.63e+07]\n",
            " [5.02e+07 4.97e+07]\n",
            " [3.90e+07 1.63e+07]\n",
            " [4.08e+07 6.28e+07]\n",
            " [2.69e+07 2.96e+07]\n",
            " [6.04e+07 4.53e+07]\n",
            " [1.12e+08 6.36e+07]\n",
            " [1.22e+07 1.94e+07]\n",
            " [2.86e+07 3.46e+07]\n",
            " [3.74e+07 4.28e+07]\n",
            " [1.56e+07 1.45e+07]\n",
            " [3.63e+07 4.00e+07]\n",
            " [7.38e+07 9.05e+07]\n",
            " [3.36e+07 4.25e+07]\n",
            " [2.33e+07 3.53e+07]\n",
            " [3.15e+07 1.54e+07]\n",
            " [6.01e+07 5.85e+07]\n",
            " [5.07e+07 3.88e+07]\n",
            " [2.18e+07 3.37e+07]\n",
            " [1.93e+07 3.45e+07]\n",
            " [3.36e+07 2.73e+07]\n",
            " [2.26e+07 2.52e+07]\n",
            " [2.16e+07 1.29e+07]\n",
            " [2.35e+08 1.99e+08]\n",
            " [7.14e+07 8.68e+07]\n",
            " [2.47e+07 3.81e+07]\n",
            " [3.97e+07 3.36e+07]\n",
            " [2.47e+07 4.21e+07]\n",
            " [1.22e+07 2.45e+07]\n",
            " [2.11e+07 2.40e+07]\n",
            " [5.06e+07 2.42e+07]\n",
            " [4.27e+07 1.58e+07]\n",
            " [2.55e+07 3.37e+07]\n",
            " [3.09e+07 1.86e+07]\n",
            " [3.90e+07 2.44e+07]\n",
            " [2.48e+07 2.04e+07]\n",
            " [3.08e+07 5.56e+07]\n",
            " [3.22e+07 4.86e+07]\n",
            " [1.82e+07 1.36e+07]\n",
            " [1.09e+08 8.06e+07]\n",
            " [2.02e+07 1.95e+07]\n",
            " [3.65e+07 3.51e+07]]\n"
          ]
        }
      ]
    },
    {
      "cell_type": "markdown",
      "metadata": {
        "id": "V4nELFnnIod1"
      },
      "source": [
        "## Evaluating the Model Performance"
      ]
    },
    {
      "cell_type": "code",
      "metadata": {
        "id": "_G2QS1UoIsTZ",
        "colab": {
          "base_uri": "https://localhost:8080/"
        },
        "outputId": "a727abf3-51e2-46da-c3ce-2f6cc5ab9ea3"
      },
      "source": [
        "from sklearn.metrics import r2_score\n",
        "r2_score(y_test, y_pred)"
      ],
      "execution_count": 6,
      "outputs": [
        {
          "output_type": "execute_result",
          "data": {
            "text/plain": [
              "0.2647318975815305"
            ]
          },
          "metadata": {},
          "execution_count": 6
        }
      ]
    }
  ]
}