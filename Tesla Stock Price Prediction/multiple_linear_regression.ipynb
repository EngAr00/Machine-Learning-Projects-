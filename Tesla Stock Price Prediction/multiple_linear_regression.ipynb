{
  "nbformat": 4,
  "nbformat_minor": 0,
  "metadata": {
    "colab": {
      "provenance": []
    },
    "kernelspec": {
      "name": "python3",
      "display_name": "Python 3"
    }
  },
  "cells": [
    {
      "cell_type": "markdown",
      "metadata": {
        "id": "CazISR8X_HUG"
      },
      "source": [
        "# Multiple Linear Regression"
      ]
    },
    {
      "cell_type": "markdown",
      "metadata": {
        "id": "pOyqYHTk_Q57"
      },
      "source": [
        "## Importing the libraries"
      ]
    },
    {
      "cell_type": "code",
      "metadata": {
        "id": "T_YHJjnD_Tja"
      },
      "source": [
        "import numpy as np\n",
        "import matplotlib.pyplot as plt\n",
        "import pandas as pd"
      ],
      "execution_count": 52,
      "outputs": []
    },
    {
      "cell_type": "markdown",
      "metadata": {
        "id": "vgC61-ah_WIz"
      },
      "source": [
        "## Importing the dataset"
      ]
    },
    {
      "cell_type": "code",
      "metadata": {
        "id": "UrxyEKGn_ez7"
      },
      "source": [
        "dataset = pd.read_csv('/content/sample_data/TSLA.csv')\n",
        "X = dataset.iloc[:,1 :-1].values\n",
        "y = dataset.iloc[:, -1].values\n"
      ],
      "execution_count": 59,
      "outputs": []
    },
    {
      "cell_type": "code",
      "source": [
        "dataset.shape"
      ],
      "metadata": {
        "colab": {
          "base_uri": "https://localhost:8080/"
        },
        "id": "TglQ72XYSdsh",
        "outputId": "55836e0f-cd34-469a-bbd8-b855e382cb3c"
      },
      "execution_count": 61,
      "outputs": [
        {
          "output_type": "execute_result",
          "data": {
            "text/plain": [
              "(1258, 7)"
            ]
          },
          "metadata": {},
          "execution_count": 61
        }
      ]
    },
    {
      "cell_type": "code",
      "source": [
        "dataset.head()"
      ],
      "metadata": {
        "colab": {
          "base_uri": "https://localhost:8080/",
          "height": 206
        },
        "id": "jAb2j-LB3SBL",
        "outputId": "0e7272e9-bba8-4e9f-be7f-ce5ce6185e94"
      },
      "execution_count": 62,
      "outputs": [
        {
          "output_type": "execute_result",
          "data": {
            "text/plain": [
              "         Date       Open       High        Low      Close  Adj Close    Volume\n",
              "0  2016-08-16  45.098000  45.438000  44.681999  44.722000  44.722000  11335500\n",
              "1  2016-08-17  44.866001  44.966000  44.560001  44.647999  44.647999   8935500\n",
              "2  2016-08-18  44.764000  45.132000  44.458000  44.702000  44.702000   8572500\n",
              "3  2016-08-19  44.708000  45.034000  44.506001  45.000000  45.000000   8297500\n",
              "4  2016-08-22  44.834000  45.021999  44.535999  44.585999  44.585999  10327500"
            ],
            "text/html": [
              "\n",
              "  <div id=\"df-d178524f-0951-4d1f-9c0a-36c8821d7a7a\" class=\"colab-df-container\">\n",
              "    <div>\n",
              "<style scoped>\n",
              "    .dataframe tbody tr th:only-of-type {\n",
              "        vertical-align: middle;\n",
              "    }\n",
              "\n",
              "    .dataframe tbody tr th {\n",
              "        vertical-align: top;\n",
              "    }\n",
              "\n",
              "    .dataframe thead th {\n",
              "        text-align: right;\n",
              "    }\n",
              "</style>\n",
              "<table border=\"1\" class=\"dataframe\">\n",
              "  <thead>\n",
              "    <tr style=\"text-align: right;\">\n",
              "      <th></th>\n",
              "      <th>Date</th>\n",
              "      <th>Open</th>\n",
              "      <th>High</th>\n",
              "      <th>Low</th>\n",
              "      <th>Close</th>\n",
              "      <th>Adj Close</th>\n",
              "      <th>Volume</th>\n",
              "    </tr>\n",
              "  </thead>\n",
              "  <tbody>\n",
              "    <tr>\n",
              "      <th>0</th>\n",
              "      <td>2016-08-16</td>\n",
              "      <td>45.098000</td>\n",
              "      <td>45.438000</td>\n",
              "      <td>44.681999</td>\n",
              "      <td>44.722000</td>\n",
              "      <td>44.722000</td>\n",
              "      <td>11335500</td>\n",
              "    </tr>\n",
              "    <tr>\n",
              "      <th>1</th>\n",
              "      <td>2016-08-17</td>\n",
              "      <td>44.866001</td>\n",
              "      <td>44.966000</td>\n",
              "      <td>44.560001</td>\n",
              "      <td>44.647999</td>\n",
              "      <td>44.647999</td>\n",
              "      <td>8935500</td>\n",
              "    </tr>\n",
              "    <tr>\n",
              "      <th>2</th>\n",
              "      <td>2016-08-18</td>\n",
              "      <td>44.764000</td>\n",
              "      <td>45.132000</td>\n",
              "      <td>44.458000</td>\n",
              "      <td>44.702000</td>\n",
              "      <td>44.702000</td>\n",
              "      <td>8572500</td>\n",
              "    </tr>\n",
              "    <tr>\n",
              "      <th>3</th>\n",
              "      <td>2016-08-19</td>\n",
              "      <td>44.708000</td>\n",
              "      <td>45.034000</td>\n",
              "      <td>44.506001</td>\n",
              "      <td>45.000000</td>\n",
              "      <td>45.000000</td>\n",
              "      <td>8297500</td>\n",
              "    </tr>\n",
              "    <tr>\n",
              "      <th>4</th>\n",
              "      <td>2016-08-22</td>\n",
              "      <td>44.834000</td>\n",
              "      <td>45.021999</td>\n",
              "      <td>44.535999</td>\n",
              "      <td>44.585999</td>\n",
              "      <td>44.585999</td>\n",
              "      <td>10327500</td>\n",
              "    </tr>\n",
              "  </tbody>\n",
              "</table>\n",
              "</div>\n",
              "    <div class=\"colab-df-buttons\">\n",
              "\n",
              "  <div class=\"colab-df-container\">\n",
              "    <button class=\"colab-df-convert\" onclick=\"convertToInteractive('df-d178524f-0951-4d1f-9c0a-36c8821d7a7a')\"\n",
              "            title=\"Convert this dataframe to an interactive table.\"\n",
              "            style=\"display:none;\">\n",
              "\n",
              "  <svg xmlns=\"http://www.w3.org/2000/svg\" height=\"24px\" viewBox=\"0 -960 960 960\">\n",
              "    <path d=\"M120-120v-720h720v720H120Zm60-500h600v-160H180v160Zm220 220h160v-160H400v160Zm0 220h160v-160H400v160ZM180-400h160v-160H180v160Zm440 0h160v-160H620v160ZM180-180h160v-160H180v160Zm440 0h160v-160H620v160Z\"/>\n",
              "  </svg>\n",
              "    </button>\n",
              "\n",
              "  <style>\n",
              "    .colab-df-container {\n",
              "      display:flex;\n",
              "      gap: 12px;\n",
              "    }\n",
              "\n",
              "    .colab-df-convert {\n",
              "      background-color: #E8F0FE;\n",
              "      border: none;\n",
              "      border-radius: 50%;\n",
              "      cursor: pointer;\n",
              "      display: none;\n",
              "      fill: #1967D2;\n",
              "      height: 32px;\n",
              "      padding: 0 0 0 0;\n",
              "      width: 32px;\n",
              "    }\n",
              "\n",
              "    .colab-df-convert:hover {\n",
              "      background-color: #E2EBFA;\n",
              "      box-shadow: 0px 1px 2px rgba(60, 64, 67, 0.3), 0px 1px 3px 1px rgba(60, 64, 67, 0.15);\n",
              "      fill: #174EA6;\n",
              "    }\n",
              "\n",
              "    .colab-df-buttons div {\n",
              "      margin-bottom: 4px;\n",
              "    }\n",
              "\n",
              "    [theme=dark] .colab-df-convert {\n",
              "      background-color: #3B4455;\n",
              "      fill: #D2E3FC;\n",
              "    }\n",
              "\n",
              "    [theme=dark] .colab-df-convert:hover {\n",
              "      background-color: #434B5C;\n",
              "      box-shadow: 0px 1px 3px 1px rgba(0, 0, 0, 0.15);\n",
              "      filter: drop-shadow(0px 1px 2px rgba(0, 0, 0, 0.3));\n",
              "      fill: #FFFFFF;\n",
              "    }\n",
              "  </style>\n",
              "\n",
              "    <script>\n",
              "      const buttonEl =\n",
              "        document.querySelector('#df-d178524f-0951-4d1f-9c0a-36c8821d7a7a button.colab-df-convert');\n",
              "      buttonEl.style.display =\n",
              "        google.colab.kernel.accessAllowed ? 'block' : 'none';\n",
              "\n",
              "      async function convertToInteractive(key) {\n",
              "        const element = document.querySelector('#df-d178524f-0951-4d1f-9c0a-36c8821d7a7a');\n",
              "        const dataTable =\n",
              "          await google.colab.kernel.invokeFunction('convertToInteractive',\n",
              "                                                    [key], {});\n",
              "        if (!dataTable) return;\n",
              "\n",
              "        const docLinkHtml = 'Like what you see? Visit the ' +\n",
              "          '<a target=\"_blank\" href=https://colab.research.google.com/notebooks/data_table.ipynb>data table notebook</a>'\n",
              "          + ' to learn more about interactive tables.';\n",
              "        element.innerHTML = '';\n",
              "        dataTable['output_type'] = 'display_data';\n",
              "        await google.colab.output.renderOutput(dataTable, element);\n",
              "        const docLink = document.createElement('div');\n",
              "        docLink.innerHTML = docLinkHtml;\n",
              "        element.appendChild(docLink);\n",
              "      }\n",
              "    </script>\n",
              "  </div>\n",
              "\n",
              "\n",
              "<div id=\"df-caa5653a-d7de-48df-a34c-ea3577923d28\">\n",
              "  <button class=\"colab-df-quickchart\" onclick=\"quickchart('df-caa5653a-d7de-48df-a34c-ea3577923d28')\"\n",
              "            title=\"Suggest charts.\"\n",
              "            style=\"display:none;\">\n",
              "\n",
              "<svg xmlns=\"http://www.w3.org/2000/svg\" height=\"24px\"viewBox=\"0 0 24 24\"\n",
              "     width=\"24px\">\n",
              "    <g>\n",
              "        <path d=\"M19 3H5c-1.1 0-2 .9-2 2v14c0 1.1.9 2 2 2h14c1.1 0 2-.9 2-2V5c0-1.1-.9-2-2-2zM9 17H7v-7h2v7zm4 0h-2V7h2v10zm4 0h-2v-4h2v4z\"/>\n",
              "    </g>\n",
              "</svg>\n",
              "  </button>\n",
              "\n",
              "<style>\n",
              "  .colab-df-quickchart {\n",
              "      --bg-color: #E8F0FE;\n",
              "      --fill-color: #1967D2;\n",
              "      --hover-bg-color: #E2EBFA;\n",
              "      --hover-fill-color: #174EA6;\n",
              "      --disabled-fill-color: #AAA;\n",
              "      --disabled-bg-color: #DDD;\n",
              "  }\n",
              "\n",
              "  [theme=dark] .colab-df-quickchart {\n",
              "      --bg-color: #3B4455;\n",
              "      --fill-color: #D2E3FC;\n",
              "      --hover-bg-color: #434B5C;\n",
              "      --hover-fill-color: #FFFFFF;\n",
              "      --disabled-bg-color: #3B4455;\n",
              "      --disabled-fill-color: #666;\n",
              "  }\n",
              "\n",
              "  .colab-df-quickchart {\n",
              "    background-color: var(--bg-color);\n",
              "    border: none;\n",
              "    border-radius: 50%;\n",
              "    cursor: pointer;\n",
              "    display: none;\n",
              "    fill: var(--fill-color);\n",
              "    height: 32px;\n",
              "    padding: 0;\n",
              "    width: 32px;\n",
              "  }\n",
              "\n",
              "  .colab-df-quickchart:hover {\n",
              "    background-color: var(--hover-bg-color);\n",
              "    box-shadow: 0 1px 2px rgba(60, 64, 67, 0.3), 0 1px 3px 1px rgba(60, 64, 67, 0.15);\n",
              "    fill: var(--button-hover-fill-color);\n",
              "  }\n",
              "\n",
              "  .colab-df-quickchart-complete:disabled,\n",
              "  .colab-df-quickchart-complete:disabled:hover {\n",
              "    background-color: var(--disabled-bg-color);\n",
              "    fill: var(--disabled-fill-color);\n",
              "    box-shadow: none;\n",
              "  }\n",
              "\n",
              "  .colab-df-spinner {\n",
              "    border: 2px solid var(--fill-color);\n",
              "    border-color: transparent;\n",
              "    border-bottom-color: var(--fill-color);\n",
              "    animation:\n",
              "      spin 1s steps(1) infinite;\n",
              "  }\n",
              "\n",
              "  @keyframes spin {\n",
              "    0% {\n",
              "      border-color: transparent;\n",
              "      border-bottom-color: var(--fill-color);\n",
              "      border-left-color: var(--fill-color);\n",
              "    }\n",
              "    20% {\n",
              "      border-color: transparent;\n",
              "      border-left-color: var(--fill-color);\n",
              "      border-top-color: var(--fill-color);\n",
              "    }\n",
              "    30% {\n",
              "      border-color: transparent;\n",
              "      border-left-color: var(--fill-color);\n",
              "      border-top-color: var(--fill-color);\n",
              "      border-right-color: var(--fill-color);\n",
              "    }\n",
              "    40% {\n",
              "      border-color: transparent;\n",
              "      border-right-color: var(--fill-color);\n",
              "      border-top-color: var(--fill-color);\n",
              "    }\n",
              "    60% {\n",
              "      border-color: transparent;\n",
              "      border-right-color: var(--fill-color);\n",
              "    }\n",
              "    80% {\n",
              "      border-color: transparent;\n",
              "      border-right-color: var(--fill-color);\n",
              "      border-bottom-color: var(--fill-color);\n",
              "    }\n",
              "    90% {\n",
              "      border-color: transparent;\n",
              "      border-bottom-color: var(--fill-color);\n",
              "    }\n",
              "  }\n",
              "</style>\n",
              "\n",
              "  <script>\n",
              "    async function quickchart(key) {\n",
              "      const quickchartButtonEl =\n",
              "        document.querySelector('#' + key + ' button');\n",
              "      quickchartButtonEl.disabled = true;  // To prevent multiple clicks.\n",
              "      quickchartButtonEl.classList.add('colab-df-spinner');\n",
              "      try {\n",
              "        const charts = await google.colab.kernel.invokeFunction(\n",
              "            'suggestCharts', [key], {});\n",
              "      } catch (error) {\n",
              "        console.error('Error during call to suggestCharts:', error);\n",
              "      }\n",
              "      quickchartButtonEl.classList.remove('colab-df-spinner');\n",
              "      quickchartButtonEl.classList.add('colab-df-quickchart-complete');\n",
              "    }\n",
              "    (() => {\n",
              "      let quickchartButtonEl =\n",
              "        document.querySelector('#df-caa5653a-d7de-48df-a34c-ea3577923d28 button');\n",
              "      quickchartButtonEl.style.display =\n",
              "        google.colab.kernel.accessAllowed ? 'block' : 'none';\n",
              "    })();\n",
              "  </script>\n",
              "</div>\n",
              "    </div>\n",
              "  </div>\n"
            ]
          },
          "metadata": {},
          "execution_count": 62
        }
      ]
    },
    {
      "cell_type": "code",
      "source": [
        "dataset.isnull().sum()"
      ],
      "metadata": {
        "colab": {
          "base_uri": "https://localhost:8080/"
        },
        "id": "wmn71u9MSeke",
        "outputId": "c93119aa-5b15-4ed5-93ba-585d1d3df580"
      },
      "execution_count": 63,
      "outputs": [
        {
          "output_type": "execute_result",
          "data": {
            "text/plain": [
              "Date         0\n",
              "Open         0\n",
              "High         0\n",
              "Low          0\n",
              "Close        0\n",
              "Adj Close    0\n",
              "Volume       0\n",
              "dtype: int64"
            ]
          },
          "metadata": {},
          "execution_count": 63
        }
      ]
    },
    {
      "cell_type": "markdown",
      "metadata": {
        "id": "WemVnqgeA70k"
      },
      "source": [
        "## Splitting the dataset into the Training set and Test set"
      ]
    },
    {
      "cell_type": "code",
      "metadata": {
        "id": "Kb_v_ae-A-20"
      },
      "source": [
        "from sklearn.model_selection import train_test_split\n",
        "X_train, X_test, y_train, y_test = train_test_split(X, y, test_size = 0.2, random_state = 0)"
      ],
      "execution_count": 64,
      "outputs": []
    },
    {
      "cell_type": "markdown",
      "metadata": {
        "id": "k-McZVsQBINc"
      },
      "source": [
        "## Training the Multiple Linear Regression model on the Training set"
      ]
    },
    {
      "cell_type": "code",
      "metadata": {
        "id": "ywPjx0L1BMiD",
        "colab": {
          "base_uri": "https://localhost:8080/",
          "height": 74
        },
        "outputId": "dfb29c33-3aeb-4a1c-fc55-a8735f1608d1"
      },
      "source": [
        "from sklearn.linear_model import LinearRegression\n",
        "regressor = LinearRegression()\n",
        "regressor.fit(X_train, y_train)"
      ],
      "execution_count": 65,
      "outputs": [
        {
          "output_type": "execute_result",
          "data": {
            "text/plain": [
              "LinearRegression()"
            ],
            "text/html": [
              "<style>#sk-container-id-1 {color: black;background-color: white;}#sk-container-id-1 pre{padding: 0;}#sk-container-id-1 div.sk-toggleable {background-color: white;}#sk-container-id-1 label.sk-toggleable__label {cursor: pointer;display: block;width: 100%;margin-bottom: 0;padding: 0.3em;box-sizing: border-box;text-align: center;}#sk-container-id-1 label.sk-toggleable__label-arrow:before {content: \"▸\";float: left;margin-right: 0.25em;color: #696969;}#sk-container-id-1 label.sk-toggleable__label-arrow:hover:before {color: black;}#sk-container-id-1 div.sk-estimator:hover label.sk-toggleable__label-arrow:before {color: black;}#sk-container-id-1 div.sk-toggleable__content {max-height: 0;max-width: 0;overflow: hidden;text-align: left;background-color: #f0f8ff;}#sk-container-id-1 div.sk-toggleable__content pre {margin: 0.2em;color: black;border-radius: 0.25em;background-color: #f0f8ff;}#sk-container-id-1 input.sk-toggleable__control:checked~div.sk-toggleable__content {max-height: 200px;max-width: 100%;overflow: auto;}#sk-container-id-1 input.sk-toggleable__control:checked~label.sk-toggleable__label-arrow:before {content: \"▾\";}#sk-container-id-1 div.sk-estimator input.sk-toggleable__control:checked~label.sk-toggleable__label {background-color: #d4ebff;}#sk-container-id-1 div.sk-label input.sk-toggleable__control:checked~label.sk-toggleable__label {background-color: #d4ebff;}#sk-container-id-1 input.sk-hidden--visually {border: 0;clip: rect(1px 1px 1px 1px);clip: rect(1px, 1px, 1px, 1px);height: 1px;margin: -1px;overflow: hidden;padding: 0;position: absolute;width: 1px;}#sk-container-id-1 div.sk-estimator {font-family: monospace;background-color: #f0f8ff;border: 1px dotted black;border-radius: 0.25em;box-sizing: border-box;margin-bottom: 0.5em;}#sk-container-id-1 div.sk-estimator:hover {background-color: #d4ebff;}#sk-container-id-1 div.sk-parallel-item::after {content: \"\";width: 100%;border-bottom: 1px solid gray;flex-grow: 1;}#sk-container-id-1 div.sk-label:hover label.sk-toggleable__label {background-color: #d4ebff;}#sk-container-id-1 div.sk-serial::before {content: \"\";position: absolute;border-left: 1px solid gray;box-sizing: border-box;top: 0;bottom: 0;left: 50%;z-index: 0;}#sk-container-id-1 div.sk-serial {display: flex;flex-direction: column;align-items: center;background-color: white;padding-right: 0.2em;padding-left: 0.2em;position: relative;}#sk-container-id-1 div.sk-item {position: relative;z-index: 1;}#sk-container-id-1 div.sk-parallel {display: flex;align-items: stretch;justify-content: center;background-color: white;position: relative;}#sk-container-id-1 div.sk-item::before, #sk-container-id-1 div.sk-parallel-item::before {content: \"\";position: absolute;border-left: 1px solid gray;box-sizing: border-box;top: 0;bottom: 0;left: 50%;z-index: -1;}#sk-container-id-1 div.sk-parallel-item {display: flex;flex-direction: column;z-index: 1;position: relative;background-color: white;}#sk-container-id-1 div.sk-parallel-item:first-child::after {align-self: flex-end;width: 50%;}#sk-container-id-1 div.sk-parallel-item:last-child::after {align-self: flex-start;width: 50%;}#sk-container-id-1 div.sk-parallel-item:only-child::after {width: 0;}#sk-container-id-1 div.sk-dashed-wrapped {border: 1px dashed gray;margin: 0 0.4em 0.5em 0.4em;box-sizing: border-box;padding-bottom: 0.4em;background-color: white;}#sk-container-id-1 div.sk-label label {font-family: monospace;font-weight: bold;display: inline-block;line-height: 1.2em;}#sk-container-id-1 div.sk-label-container {text-align: center;}#sk-container-id-1 div.sk-container {/* jupyter's `normalize.less` sets `[hidden] { display: none; }` but bootstrap.min.css set `[hidden] { display: none !important; }` so we also need the `!important` here to be able to override the default hidden behavior on the sphinx rendered scikit-learn.org. See: https://github.com/scikit-learn/scikit-learn/issues/21755 */display: inline-block !important;position: relative;}#sk-container-id-1 div.sk-text-repr-fallback {display: none;}</style><div id=\"sk-container-id-1\" class=\"sk-top-container\"><div class=\"sk-text-repr-fallback\"><pre>LinearRegression()</pre><b>In a Jupyter environment, please rerun this cell to show the HTML representation or trust the notebook. <br />On GitHub, the HTML representation is unable to render, please try loading this page with nbviewer.org.</b></div><div class=\"sk-container\" hidden><div class=\"sk-item\"><div class=\"sk-estimator sk-toggleable\"><input class=\"sk-toggleable__control sk-hidden--visually\" id=\"sk-estimator-id-1\" type=\"checkbox\" checked><label for=\"sk-estimator-id-1\" class=\"sk-toggleable__label sk-toggleable__label-arrow\">LinearRegression</label><div class=\"sk-toggleable__content\"><pre>LinearRegression()</pre></div></div></div></div></div>"
            ]
          },
          "metadata": {},
          "execution_count": 65
        }
      ]
    },
    {
      "cell_type": "markdown",
      "metadata": {
        "id": "xNkXL1YQBiBT"
      },
      "source": [
        "## Predicting the Test set results"
      ]
    },
    {
      "cell_type": "code",
      "metadata": {
        "id": "TQKmwvtdBkyb",
        "colab": {
          "base_uri": "https://localhost:8080/"
        },
        "outputId": "597b890f-7996-4058-f57e-50b4c22b6ae3"
      },
      "source": [
        "y_pred = regressor.predict(X_test)\n",
        "np.set_printoptions(precision=2)\n",
        "print(np.concatenate((y_pred.reshape(len(y_pred),1), y_test.reshape(len(y_test),1)),1))"
      ],
      "execution_count": 66,
      "outputs": [
        {
          "output_type": "stream",
          "name": "stdout",
          "text": [
            "[[ 4.35e+07  2.39e+07]\n",
            " [ 5.03e+07  1.16e+08]\n",
            " [ 4.35e+07  2.14e+07]\n",
            " [ 4.80e+07  7.15e+07]\n",
            " [ 4.09e+07  2.06e+07]\n",
            " [ 4.48e+07  1.86e+07]\n",
            " [ 4.23e+07  2.91e+07]\n",
            " [ 4.41e+07  6.54e+07]\n",
            " [ 4.15e+07  2.27e+07]\n",
            " [ 4.49e+07  4.00e+07]\n",
            " [ 4.19e+07  1.84e+07]\n",
            " [ 4.45e+07  4.08e+07]\n",
            " [ 4.08e+07  6.56e+07]\n",
            " [ 4.46e+07  5.42e+07]\n",
            " [ 4.51e+07  4.64e+07]\n",
            " [ 6.44e+07  4.63e+07]\n",
            " [ 4.18e+07  4.99e+07]\n",
            " [ 6.85e+07  3.92e+07]\n",
            " [ 4.29e+07  1.61e+07]\n",
            " [ 5.62e+07  3.32e+07]\n",
            " [ 5.01e+07  7.08e+07]\n",
            " [ 4.46e+07  3.51e+07]\n",
            " [ 4.37e+07  5.83e+07]\n",
            " [ 4.32e+07  2.54e+07]\n",
            " [ 5.58e+07  3.38e+07]\n",
            " [ 4.15e+07  3.27e+07]\n",
            " [ 4.03e+07  6.48e+07]\n",
            " [ 4.50e+07  5.43e+07]\n",
            " [ 4.33e+07  3.00e+07]\n",
            " [ 4.40e+07  3.42e+07]\n",
            " [ 4.28e+07  2.76e+07]\n",
            " [ 3.40e+07  4.21e+07]\n",
            " [ 8.97e+07  3.73e+07]\n",
            " [ 4.52e+07  3.50e+07]\n",
            " [ 4.01e+07  5.32e+07]\n",
            " [ 4.10e+07  2.78e+07]\n",
            " [ 4.28e+07  4.21e+07]\n",
            " [ 5.46e+07  3.14e+07]\n",
            " [ 4.28e+07  3.91e+07]\n",
            " [ 4.38e+07  4.45e+07]\n",
            " [ 4.44e+07  3.83e+07]\n",
            " [ 2.64e+07  2.84e+07]\n",
            " [ 1.38e+08  1.18e+08]\n",
            " [ 6.64e+07  3.38e+07]\n",
            " [ 1.69e+08  6.75e+07]\n",
            " [ 4.16e+07  8.94e+06]\n",
            " [ 4.19e+07  2.33e+07]\n",
            " [ 4.53e+07  7.23e+07]\n",
            " [ 4.25e+07  1.94e+07]\n",
            " [ 4.18e+07  2.40e+07]\n",
            " [ 2.80e+07  6.29e+07]\n",
            " [ 4.74e+07  4.27e+07]\n",
            " [ 7.33e+07  1.13e+08]\n",
            " [ 4.39e+07  2.13e+07]\n",
            " [ 4.32e+07  5.17e+07]\n",
            " [ 4.59e+07  3.97e+07]\n",
            " [ 4.36e+07  7.10e+07]\n",
            " [ 5.31e+06  2.01e+07]\n",
            " [ 4.26e+07  1.16e+07]\n",
            " [ 4.42e+07  2.82e+07]\n",
            " [ 4.17e+07  2.51e+07]\n",
            " [ 8.00e+07  3.12e+07]\n",
            " [ 1.17e+08  9.66e+07]\n",
            " [ 4.50e+07  4.59e+07]\n",
            " [ 4.39e+07  2.47e+07]\n",
            " [ 6.85e+07  1.20e+08]\n",
            " [ 3.68e+07  4.95e+07]\n",
            " [ 4.42e+07  2.81e+07]\n",
            " [ 1.65e+06  1.58e+07]\n",
            " [ 4.06e+07  4.65e+07]\n",
            " [ 4.22e+07  2.07e+07]\n",
            " [ 4.18e+07  2.87e+07]\n",
            " [ 7.29e+07  1.18e+08]\n",
            " [ 4.32e+07  2.20e+07]\n",
            " [ 4.17e+07  1.53e+07]\n",
            " [ 7.61e+07  9.73e+07]\n",
            " [ 3.97e+07  2.59e+07]\n",
            " [ 4.35e+07  3.80e+07]\n",
            " [ 4.34e+07  3.17e+07]\n",
            " [ 4.21e+07  2.94e+07]\n",
            " [ 4.15e+07  2.70e+07]\n",
            " [ 4.32e+07  3.63e+07]\n",
            " [ 4.37e+07  2.87e+07]\n",
            " [ 3.86e+07  5.86e+07]\n",
            " [ 4.36e+07  5.42e+07]\n",
            " [ 4.28e+07  3.25e+07]\n",
            " [ 4.52e+07  3.28e+07]\n",
            " [ 4.55e+07  8.97e+07]\n",
            " [ 3.93e+07  4.71e+07]\n",
            " [ 4.35e+07  2.83e+07]\n",
            " [ 3.52e+07  2.27e+07]\n",
            " [ 5.29e+07  5.03e+07]\n",
            " [ 5.52e+07  8.38e+07]\n",
            " [ 4.50e+07  7.52e+07]\n",
            " [ 4.55e+07  4.00e+07]\n",
            " [ 7.98e+07  1.09e+08]\n",
            " [ 4.20e+07  2.16e+07]\n",
            " [ 4.21e+07  2.31e+07]\n",
            " [ 4.42e+07  4.97e+07]\n",
            " [ 4.50e+07  3.19e+07]\n",
            " [ 4.53e+07  4.80e+07]\n",
            " [ 5.35e+07  2.43e+07]\n",
            " [ 3.34e+07  1.88e+07]\n",
            " [ 4.73e+07  5.54e+07]\n",
            " [ 4.33e+07  1.09e+08]\n",
            " [ 4.80e+07  6.90e+07]\n",
            " [ 4.59e+07  4.01e+07]\n",
            " [ 4.29e+07  3.90e+07]\n",
            " [ 4.67e+07  1.05e+08]\n",
            " [ 4.44e+07  2.56e+07]\n",
            " [ 4.86e+07  4.00e+07]\n",
            " [ 4.68e+07  3.50e+07]\n",
            " [ 4.39e+07  5.77e+07]\n",
            " [ 4.66e+07  2.71e+07]\n",
            " [ 4.18e+07  2.81e+07]\n",
            " [ 4.15e+07  2.10e+07]\n",
            " [ 4.46e+07  4.72e+07]\n",
            " [ 4.23e+07  3.04e+07]\n",
            " [ 4.24e+07  3.49e+07]\n",
            " [ 4.18e+07  5.07e+07]\n",
            " [ 4.47e+07  2.96e+07]\n",
            " [ 4.42e+07  3.67e+07]\n",
            " [ 3.43e+07  3.18e+07]\n",
            " [ 4.17e+07  2.52e+07]\n",
            " [ 4.30e+07  2.82e+07]\n",
            " [ 4.43e+07  2.18e+07]\n",
            " [ 4.13e+07  2.11e+07]\n",
            " [ 4.91e+07  7.96e+07]\n",
            " [ 4.24e+07  1.12e+07]\n",
            " [ 4.43e+07  5.50e+07]\n",
            " [ 4.89e+07  2.37e+07]\n",
            " [ 5.43e+07  4.89e+07]\n",
            " [ 4.21e+07  2.92e+07]\n",
            " [ 4.29e+07  2.88e+07]\n",
            " [ 4.59e+07  9.83e+07]\n",
            " [ 4.41e+07  3.17e+07]\n",
            " [ 4.69e+07  7.96e+07]\n",
            " [ 4.18e+07  1.61e+07]\n",
            " [ 5.30e+07  2.71e+07]\n",
            " [ 4.60e+07  5.02e+07]\n",
            " [ 4.36e+07  3.15e+07]\n",
            " [ 4.67e+07  3.88e+07]\n",
            " [ 4.19e+07  2.99e+07]\n",
            " [ 4.19e+07  4.98e+07]\n",
            " [ 4.31e+07  4.19e+07]\n",
            " [ 3.30e+07  2.33e+07]\n",
            " [ 4.11e+07  2.55e+07]\n",
            " [ 4.23e+07  2.95e+07]\n",
            " [ 4.34e+07  5.23e+07]\n",
            " [ 4.25e+07  3.72e+07]\n",
            " [ 4.25e+07  3.22e+07]\n",
            " [ 1.10e+08  8.30e+07]\n",
            " [ 4.27e+07  2.14e+07]\n",
            " [ 4.26e+07  2.51e+07]\n",
            " [ 4.05e+07  6.10e+07]\n",
            " [ 4.45e+07  2.42e+07]\n",
            " [ 4.63e+07  1.12e+08]\n",
            " [ 6.72e+07  1.63e+08]\n",
            " [ 4.15e+07  2.75e+07]\n",
            " [ 7.81e+07  4.42e+07]\n",
            " [ 4.80e+07  9.09e+07]\n",
            " [ 4.12e+07  7.86e+07]\n",
            " [ 4.55e+07  3.92e+07]\n",
            " [ 3.15e+07  3.57e+07]\n",
            " [ 3.81e+07  4.99e+07]\n",
            " [ 4.25e+07  2.52e+07]\n",
            " [ 4.56e+07  5.10e+07]\n",
            " [ 4.06e+07  2.77e+07]\n",
            " [ 4.31e+07  2.97e+07]\n",
            " [ 6.43e+07  5.93e+07]\n",
            " [ 4.38e+07  3.03e+07]\n",
            " [ 4.61e+07  4.23e+07]\n",
            " [ 6.96e+07  5.63e+07]\n",
            " [ 4.56e+07  8.36e+07]\n",
            " [ 4.61e+07  4.69e+07]\n",
            " [ 4.63e+07  5.13e+07]\n",
            " [ 4.11e+07  1.65e+07]\n",
            " [ 4.26e+07  1.77e+07]\n",
            " [ 4.52e+07  4.03e+07]\n",
            " [ 6.07e+07  1.02e+08]\n",
            " [ 1.97e+07  2.89e+07]\n",
            " [ 4.62e+07  3.47e+07]\n",
            " [ 4.57e+07  6.76e+07]\n",
            " [ 4.35e+07  3.45e+07]\n",
            " [ 4.35e+07  3.28e+07]\n",
            " [ 4.29e+07  3.50e+07]\n",
            " [ 4.12e+07  2.58e+07]\n",
            " [ 8.91e+07  8.49e+07]\n",
            " [ 7.69e+07  8.02e+07]\n",
            " [ 4.41e+07  3.70e+07]\n",
            " [ 4.31e+07  4.51e+07]\n",
            " [ 2.49e+07  3.23e+07]\n",
            " [ 4.21e+07  2.65e+07]\n",
            " [ 3.47e+07  2.78e+07]\n",
            " [ 1.01e+08  4.12e+07]\n",
            " [ 4.27e+07  1.22e+07]\n",
            " [ 4.45e+07  4.59e+07]\n",
            " [ 4.24e+07  4.88e+07]\n",
            " [ 9.61e+07  4.08e+07]\n",
            " [ 1.27e+07  2.29e+07]\n",
            " [ 4.35e+07  3.17e+07]\n",
            " [ 4.66e+07  3.98e+07]\n",
            " [ 4.18e+07  2.44e+07]\n",
            " [ 4.28e+07  2.84e+07]\n",
            " [ 4.29e+07  7.09e+07]\n",
            " [ 4.41e+07  6.62e+07]\n",
            " [ 7.44e+07  7.68e+07]\n",
            " [ 4.38e+07  2.84e+07]\n",
            " [ 5.17e+07  6.68e+07]\n",
            " [ 4.65e+07  7.60e+07]\n",
            " [ 1.96e+07  3.63e+07]\n",
            " [ 2.90e+07  4.97e+07]\n",
            " [ 4.13e+07  1.63e+07]\n",
            " [ 4.67e+07  6.28e+07]\n",
            " [ 4.36e+07  2.96e+07]\n",
            " [ 4.31e+07  4.53e+07]\n",
            " [ 4.63e+07  6.36e+07]\n",
            " [ 4.28e+07  1.94e+07]\n",
            " [ 8.06e+07  3.46e+07]\n",
            " [ 4.73e+07  4.28e+07]\n",
            " [ 4.34e+07  1.45e+07]\n",
            " [ 4.35e+07  4.00e+07]\n",
            " [ 4.23e+07  9.05e+07]\n",
            " [ 4.25e+07  4.25e+07]\n",
            " [ 4.23e+07  3.53e+07]\n",
            " [ 4.02e+07  1.54e+07]\n",
            " [ 4.12e+07  5.85e+07]\n",
            " [ 2.61e+07  3.88e+07]\n",
            " [ 4.38e+07  3.37e+07]\n",
            " [ 4.37e+07  3.45e+07]\n",
            " [ 4.18e+07  2.73e+07]\n",
            " [ 4.29e+07  2.52e+07]\n",
            " [-2.74e+06  1.29e+07]\n",
            " [ 8.41e+07  1.99e+08]\n",
            " [ 4.54e+07  8.68e+07]\n",
            " [ 3.56e+07  3.81e+07]\n",
            " [ 5.02e+07  3.36e+07]\n",
            " [ 4.49e+07  4.21e+07]\n",
            " [ 4.45e+07  2.45e+07]\n",
            " [ 4.20e+07  2.40e+07]\n",
            " [ 4.32e+07  2.42e+07]\n",
            " [ 4.31e+07  1.58e+07]\n",
            " [ 2.97e+07  3.37e+07]\n",
            " [ 4.25e+07  1.86e+07]\n",
            " [ 4.23e+07  2.44e+07]\n",
            " [ 2.48e+07  2.04e+07]\n",
            " [ 4.51e+07  5.56e+07]\n",
            " [ 4.37e+07  4.86e+07]\n",
            " [ 4.41e+07  1.36e+07]\n",
            " [ 4.63e+07  8.06e+07]\n",
            " [ 4.37e+07  1.95e+07]\n",
            " [ 4.29e+07  3.51e+07]]\n"
          ]
        }
      ]
    },
    {
      "cell_type": "markdown",
      "metadata": {
        "id": "50DZZy0UyhLi"
      },
      "source": [
        "## Evaluating the Model Performance"
      ]
    },
    {
      "cell_type": "code",
      "metadata": {
        "id": "xPagAOKDywV4",
        "colab": {
          "base_uri": "https://localhost:8080/"
        },
        "outputId": "016618e8-2316-4712-ac55-d6d2c10cb5f6"
      },
      "source": [
        "from sklearn.metrics import r2_score\n",
        "r2_score(y_test, y_pred)"
      ],
      "execution_count": 67,
      "outputs": [
        {
          "output_type": "execute_result",
          "data": {
            "text/plain": [
              "0.15640347367721863"
            ]
          },
          "metadata": {},
          "execution_count": 67
        }
      ]
    }
  ]
}