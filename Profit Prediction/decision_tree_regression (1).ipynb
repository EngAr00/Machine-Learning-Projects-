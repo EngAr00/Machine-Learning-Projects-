{
  "nbformat": 4,
  "nbformat_minor": 0,
  "metadata": {
    "colab": {
      "provenance": []
    },
    "kernelspec": {
      "name": "python3",
      "display_name": "Python 3"
    }
  },
  "cells": [
    {
      "cell_type": "markdown",
      "metadata": {
        "id": "r3cas2_1T98w"
      },
      "source": [
        "# Decision Tree Regression"
      ]
    },
    {
      "cell_type": "markdown",
      "metadata": {
        "id": "IODliia6U1xO"
      },
      "source": [
        "## Importing the libraries"
      ]
    },
    {
      "cell_type": "code",
      "metadata": {
        "id": "y98nA5UdU6Hf"
      },
      "source": [
        "import numpy as np\n",
        "import matplotlib.pyplot as plt\n",
        "import pandas as pd"
      ],
      "execution_count": 12,
      "outputs": []
    },
    {
      "cell_type": "markdown",
      "metadata": {
        "id": "jpjZ43YlU8eI"
      },
      "source": [
        "## Importing the dataset"
      ]
    },
    {
      "cell_type": "code",
      "metadata": {
        "id": "pLVaXoYVU_Uy"
      },
      "source": [
        "dataset = pd.read_csv('/content/sample_data/1000_Companies.csv')\n",
        "X = dataset.iloc[:, :-1].values\n",
        "y = dataset.iloc[:, -1].values"
      ],
      "execution_count": 13,
      "outputs": []
    },
    {
      "cell_type": "code",
      "source": [
        "dataset['State'].value_counts()"
      ],
      "metadata": {
        "colab": {
          "base_uri": "https://localhost:8080/"
        },
        "id": "g8xj8DJmUgVv",
        "outputId": "25c0a113-fcc8-4234-a4dd-345e9faa9edf"
      },
      "execution_count": 14,
      "outputs": [
        {
          "output_type": "execute_result",
          "data": {
            "text/plain": [
              "California    344\n",
              "New York      334\n",
              "Florida       322\n",
              "Name: State, dtype: int64"
            ]
          },
          "metadata": {},
          "execution_count": 14
        }
      ]
    },
    {
      "cell_type": "markdown",
      "source": [
        "##Encoding"
      ],
      "metadata": {
        "id": "ES7-fV5YUVtM"
      }
    },
    {
      "cell_type": "code",
      "source": [
        "#Encoding independent variable\n",
        "from sklearn.compose import ColumnTransformer\n",
        "from sklearn.preprocessing import OneHotEncoder\n",
        "ct = ColumnTransformer(transformers=[('encoder',OneHotEncoder(),[3])],remainder='passthrough')\n",
        "X = np.array(ct.fit_transform(X))"
      ],
      "metadata": {
        "id": "pJkcuh5EUbTZ"
      },
      "execution_count": 15,
      "outputs": []
    },
    {
      "cell_type": "markdown",
      "metadata": {
        "id": "tPJXMyyUJbWn"
      },
      "source": [
        "## Splitting the dataset into the Training set and Test set"
      ]
    },
    {
      "cell_type": "code",
      "metadata": {
        "id": "rFOzpjaiJd5B"
      },
      "source": [
        "from sklearn.model_selection import train_test_split\n",
        "X_train, X_test, y_train, y_test = train_test_split(X, y, test_size = 0.2, random_state = 0)"
      ],
      "execution_count": 16,
      "outputs": []
    },
    {
      "cell_type": "markdown",
      "metadata": {
        "id": "g16qFkFQVC35"
      },
      "source": [
        "## Training the Decision Tree Regression model on the Training set"
      ]
    },
    {
      "cell_type": "code",
      "metadata": {
        "id": "SLDKyv1SVUqS",
        "colab": {
          "base_uri": "https://localhost:8080/",
          "height": 74
        },
        "outputId": "624d8e38-5dc6-44aa-93ea-9a51b7305a4a"
      },
      "source": [
        "from sklearn.tree import DecisionTreeRegressor\n",
        "regressor = DecisionTreeRegressor(random_state = 0)\n",
        "regressor.fit(X_train, y_train)"
      ],
      "execution_count": 17,
      "outputs": [
        {
          "output_type": "execute_result",
          "data": {
            "text/plain": [
              "DecisionTreeRegressor(random_state=0)"
            ],
            "text/html": [
              "<style>#sk-container-id-2 {color: black;background-color: white;}#sk-container-id-2 pre{padding: 0;}#sk-container-id-2 div.sk-toggleable {background-color: white;}#sk-container-id-2 label.sk-toggleable__label {cursor: pointer;display: block;width: 100%;margin-bottom: 0;padding: 0.3em;box-sizing: border-box;text-align: center;}#sk-container-id-2 label.sk-toggleable__label-arrow:before {content: \"▸\";float: left;margin-right: 0.25em;color: #696969;}#sk-container-id-2 label.sk-toggleable__label-arrow:hover:before {color: black;}#sk-container-id-2 div.sk-estimator:hover label.sk-toggleable__label-arrow:before {color: black;}#sk-container-id-2 div.sk-toggleable__content {max-height: 0;max-width: 0;overflow: hidden;text-align: left;background-color: #f0f8ff;}#sk-container-id-2 div.sk-toggleable__content pre {margin: 0.2em;color: black;border-radius: 0.25em;background-color: #f0f8ff;}#sk-container-id-2 input.sk-toggleable__control:checked~div.sk-toggleable__content {max-height: 200px;max-width: 100%;overflow: auto;}#sk-container-id-2 input.sk-toggleable__control:checked~label.sk-toggleable__label-arrow:before {content: \"▾\";}#sk-container-id-2 div.sk-estimator input.sk-toggleable__control:checked~label.sk-toggleable__label {background-color: #d4ebff;}#sk-container-id-2 div.sk-label input.sk-toggleable__control:checked~label.sk-toggleable__label {background-color: #d4ebff;}#sk-container-id-2 input.sk-hidden--visually {border: 0;clip: rect(1px 1px 1px 1px);clip: rect(1px, 1px, 1px, 1px);height: 1px;margin: -1px;overflow: hidden;padding: 0;position: absolute;width: 1px;}#sk-container-id-2 div.sk-estimator {font-family: monospace;background-color: #f0f8ff;border: 1px dotted black;border-radius: 0.25em;box-sizing: border-box;margin-bottom: 0.5em;}#sk-container-id-2 div.sk-estimator:hover {background-color: #d4ebff;}#sk-container-id-2 div.sk-parallel-item::after {content: \"\";width: 100%;border-bottom: 1px solid gray;flex-grow: 1;}#sk-container-id-2 div.sk-label:hover label.sk-toggleable__label {background-color: #d4ebff;}#sk-container-id-2 div.sk-serial::before {content: \"\";position: absolute;border-left: 1px solid gray;box-sizing: border-box;top: 0;bottom: 0;left: 50%;z-index: 0;}#sk-container-id-2 div.sk-serial {display: flex;flex-direction: column;align-items: center;background-color: white;padding-right: 0.2em;padding-left: 0.2em;position: relative;}#sk-container-id-2 div.sk-item {position: relative;z-index: 1;}#sk-container-id-2 div.sk-parallel {display: flex;align-items: stretch;justify-content: center;background-color: white;position: relative;}#sk-container-id-2 div.sk-item::before, #sk-container-id-2 div.sk-parallel-item::before {content: \"\";position: absolute;border-left: 1px solid gray;box-sizing: border-box;top: 0;bottom: 0;left: 50%;z-index: -1;}#sk-container-id-2 div.sk-parallel-item {display: flex;flex-direction: column;z-index: 1;position: relative;background-color: white;}#sk-container-id-2 div.sk-parallel-item:first-child::after {align-self: flex-end;width: 50%;}#sk-container-id-2 div.sk-parallel-item:last-child::after {align-self: flex-start;width: 50%;}#sk-container-id-2 div.sk-parallel-item:only-child::after {width: 0;}#sk-container-id-2 div.sk-dashed-wrapped {border: 1px dashed gray;margin: 0 0.4em 0.5em 0.4em;box-sizing: border-box;padding-bottom: 0.4em;background-color: white;}#sk-container-id-2 div.sk-label label {font-family: monospace;font-weight: bold;display: inline-block;line-height: 1.2em;}#sk-container-id-2 div.sk-label-container {text-align: center;}#sk-container-id-2 div.sk-container {/* jupyter's `normalize.less` sets `[hidden] { display: none; }` but bootstrap.min.css set `[hidden] { display: none !important; }` so we also need the `!important` here to be able to override the default hidden behavior on the sphinx rendered scikit-learn.org. See: https://github.com/scikit-learn/scikit-learn/issues/21755 */display: inline-block !important;position: relative;}#sk-container-id-2 div.sk-text-repr-fallback {display: none;}</style><div id=\"sk-container-id-2\" class=\"sk-top-container\"><div class=\"sk-text-repr-fallback\"><pre>DecisionTreeRegressor(random_state=0)</pre><b>In a Jupyter environment, please rerun this cell to show the HTML representation or trust the notebook. <br />On GitHub, the HTML representation is unable to render, please try loading this page with nbviewer.org.</b></div><div class=\"sk-container\" hidden><div class=\"sk-item\"><div class=\"sk-estimator sk-toggleable\"><input class=\"sk-toggleable__control sk-hidden--visually\" id=\"sk-estimator-id-2\" type=\"checkbox\" checked><label for=\"sk-estimator-id-2\" class=\"sk-toggleable__label sk-toggleable__label-arrow\">DecisionTreeRegressor</label><div class=\"sk-toggleable__content\"><pre>DecisionTreeRegressor(random_state=0)</pre></div></div></div></div></div>"
            ]
          },
          "metadata": {},
          "execution_count": 17
        }
      ]
    },
    {
      "cell_type": "markdown",
      "metadata": {
        "id": "Nao9cdO6IgNb"
      },
      "source": [
        "## Predicting the Test set results"
      ]
    },
    {
      "cell_type": "code",
      "metadata": {
        "id": "EebHA3EOIkQK",
        "colab": {
          "base_uri": "https://localhost:8080/"
        },
        "outputId": "4a8f7110-d3c2-4571-bd9f-75eedb98c8b9"
      },
      "source": [
        "y_pred = regressor.predict(X_test)\n",
        "np.set_printoptions(precision=2)\n",
        "print(np.concatenate((y_pred.reshape(len(y_pred),1), y_test.reshape(len(y_test),1)),1))"
      ],
      "execution_count": 18,
      "outputs": [
        {
          "output_type": "stream",
          "name": "stdout",
          "text": [
            "[[ 88971.02  89012.03]\n",
            " [ 87716.92  87654.56]\n",
            " [ 94066.01  94093.35]\n",
            " [175166.46 175396.26]\n",
            " [ 83178.93  83356.62]\n",
            " [110363.33 110395.79]\n",
            " [111461.95 105008.31]\n",
            " [ 90808.6   90687.29]\n",
            " [164330.63 164180.27]\n",
            " [ 53649.49  53483.76]\n",
            " [ 66357.07  66273.35]\n",
            " [150516.73 150393.72]\n",
            " [125981.49 125971.23]\n",
            " [ 58666.74  58694.93]\n",
            " [176623.02 176344.52]\n",
            " [ 75270.75  75297.23]\n",
            " [118265.53 118219.39]\n",
            " [163673.68 163462.67]\n",
            " [156147.37 132602.65]\n",
            " [181550.58 181574.5 ]\n",
            " [ 97427.84  97483.56]\n",
            " [ 84808.91  84909.72]\n",
            " [180633.92 180684.33]\n",
            " [ 83444.61  83391.64]\n",
            " [104151.78 104159.47]\n",
            " [100435.61 100404.  ]\n",
            " [ 42559.73  64926.08]\n",
            " [ 56991.48  56944.49]\n",
            " [ 68160.48  68210.89]\n",
            " [192261.83 191792.06]\n",
            " [120790.81 120738.7 ]\n",
            " [110963.9  110848.57]\n",
            " [101119.04 101352.27]\n",
            " [137719.45 137842.47]\n",
            " [ 62531.56  63306.4 ]\n",
            " [107910.66 107994.38]\n",
            " [185352.17 185502.53]\n",
            " [171235.86 171176.92]\n",
            " [174414.68 174364.28]\n",
            " [117700.84 117645.31]\n",
            " [ 96581.05  96616.93]\n",
            " [164330.63 164336.61]\n",
            " [107019.63 106865.86]\n",
            " [ 49490.75  50468.96]\n",
            " [116529.61 116492.87]\n",
            " [ 58179.8   57992.71]\n",
            " [157979.82 158208.77]\n",
            " [ 78406.85  78689.62]\n",
            " [159509.   159514.13]\n",
            " [131062.81 131051.71]\n",
            " [184581.6  184555.12]\n",
            " [174414.68 174329.25]\n",
            " [ 92920.41  92949.46]\n",
            " [ 78406.85  78308.61]\n",
            " [180257.18 180257.18]\n",
            " [ 84552.63  84583.38]\n",
            " [142712.78 142762.33]\n",
            " [170343.13 170174.83]\n",
            " [ 84378.35  84305.74]\n",
            " [104996.67 105154.72]\n",
            " [141472.35 141527.03]\n",
            " [ 52731.98  52609.82]\n",
            " [140870.08 140832.49]\n",
            " [138855.66 138872.74]\n",
            " [ 97446.45  97478.05]\n",
            " [113472.95 113578.88]\n",
            " [126295.87 126506.02]\n",
            " [151804.15 151774.25]\n",
            " [ 58963.18  58918.76]\n",
            " [173897.83 174007.18]\n",
            " [123648.42 123690.28]\n",
            " [168285.14 167934.03]\n",
            " [ 91441.63  91370.73]\n",
            " [155881.68 155791.13]\n",
            " [ 83632.55  83553.1 ]\n",
            " [ 77837.9   77847.29]\n",
            " [120345.73 120375.63]\n",
            " [ 92920.41  93280.92]\n",
            " [138079.11 138022.72]\n",
            " [142575.24 142586.35]\n",
            " [170547.3  170883.89]\n",
            " [139016.26 139080.34]\n",
            " [106169.61 106212.33]\n",
            " [154539.59 154569.49]\n",
            " [139915.83 139722.76]\n",
            " [110023.32 109998.55]\n",
            " [ 68872.96  68984.02]\n",
            " [ 88027.88  88072.31]\n",
            " [139016.26 139130.74]\n",
            " [148158.04 148134.12]\n",
            " [157493.73 157529.61]\n",
            " [ 58179.8   57893.61]\n",
            " [ 94066.01  93606.41]\n",
            " [112487.95 112642.58]\n",
            " [ 56775.34  56620.72]\n",
            " [107382.71 107252.86]\n",
            " [146925.29 147194.39]\n",
            " [151804.15 151782.79]\n",
            " [167373.61 167377.03]\n",
            " [117700.84 117842.65]\n",
            " [120790.81 120723.32]\n",
            " [138855.66 138908.62]\n",
            " [157325.44 157142.62]\n",
            " [121927.87 121916.77]\n",
            " [ 86983.94  87019.82]\n",
            " [104862.55 104824.11]\n",
            " [ 95260.31  95227.  ]\n",
            " [177717.37 177911.3 ]\n",
            " [180783.42 180753.52]\n",
            " [109663.67 109658.54]\n",
            " [164330.63 164139.26]\n",
            " [166598.77 166679.93]\n",
            " [157591.12 157615.04]\n",
            " [174414.68 174320.71]\n",
            " [169169.33 169059.98]\n",
            " [ 51671.81  51690.6 ]\n",
            " [175826.82 175771.3 ]\n",
            " [103903.18 103906.6 ]\n",
            " [ 81824.87  81963.27]\n",
            " [138736.91 138588.26]\n",
            " [144184.73 144130.05]\n",
            " [161467.04 161456.79]\n",
            " [169403.41 169404.26]\n",
            " [120345.73 120412.36]\n",
            " [158338.63 158670.95]\n",
            " [109333.06 109344.16]\n",
            " [169169.33 169235.11]\n",
            " [ 60065.22  60111.35]\n",
            " [158160.08 157949.92]\n",
            " [156935.88 157086.23]\n",
            " [173897.83 174050.75]\n",
            " [155881.68 155915.  ]\n",
            " [102833.61 102873.76]\n",
            " [ 85529.94  85570.94]\n",
            " [140589.87 140594.14]\n",
            " [165530.05 165495.02]\n",
            " [121248.71 121140.22]\n",
            " [156545.47 152211.77]\n",
            " [100589.38 100556.07]\n",
            " [ 81580.55  82229.81]\n",
            " [177442.29 177468.77]\n",
            " [100992.61 100958.44]\n",
            " [ 70555.92  70509.78]\n",
            " [ 90108.94  90164.47]\n",
            " [ 61960.04  61291.13]\n",
            " [ 68872.96  68921.66]\n",
            " [ 72870.19  72949.64]\n",
            " [175826.82 175747.38]\n",
            " [ 89915.87  89803.1 ]\n",
            " [ 96479.51  96712.8 ]\n",
            " [ 92903.32  92758.09]\n",
            " [100992.61  99937.59]\n",
            " [171651.9  171687.78]\n",
            " [ 60368.49  60243.76]\n",
            " [168870.33 168760.98]\n",
            " [165584.73 165330.15]\n",
            " [165119.14 165186.63]\n",
            " [102274.05 102213.39]\n",
            " [181243.89 181102.07]\n",
            " [ 73850.06  73872.28]\n",
            " [ 90544.63  90482.26]\n",
            " [134723.45 134808.02]\n",
            " [ 65085.03  64950.06]\n",
            " [ 71717.75  71772.43]\n",
            " [ 60869.96  60650.41]\n",
            " [183945.16 183965.66]\n",
            " [176018.19 175999.39]\n",
            " [158565.87 158516.32]\n",
            " [141073.4  141046.06]\n",
            " [154173.1  154238.88]\n",
            " [ 58666.74  58605.23]\n",
            " [ 90808.6   90712.92]\n",
            " [152175.77 152520.9 ]\n",
            " [168246.7  168145.89]\n",
            " [ 72607.07  72478.93]\n",
            " [111313.02 116045.22]\n",
            " [ 80106.89  80229.06]\n",
            " [149669.28 149477.92]\n",
            " [116529.61 116603.08]\n",
            " [128977.49 129232.92]\n",
            " [174414.68 174254.93]\n",
            " [333962.19 476485.43]\n",
            " [145073.19 145240.63]\n",
            " [150475.73 150292.06]\n",
            " [ 86313.32  86221.91]\n",
            " [ 70232.14  70153.54]\n",
            " [ 70244.95  70282.54]\n",
            " [ 68160.48  68347.57]\n",
            " [120345.73 120445.68]\n",
            " [ 89583.55  89594.65]\n",
            " [166598.77 166579.12]\n",
            " [124765.83 124577.03]\n",
            " [ 67199.41  67226.74]\n",
            " [149759.96 156991.12]\n",
            " [117700.84 117637.62]\n",
            " [164713.35 164779.98]\n",
            " [168459.42 168402.18]\n",
            " [145877.93 145976.18]\n",
            " [141073.4  141082.79]\n",
            " [108896.51 108917.02]]\n"
          ]
        }
      ]
    },
    {
      "cell_type": "markdown",
      "metadata": {
        "id": "V4nELFnnIod1"
      },
      "source": [
        "## Evaluating the Model Performance"
      ]
    },
    {
      "cell_type": "code",
      "metadata": {
        "id": "_G2QS1UoIsTZ",
        "colab": {
          "base_uri": "https://localhost:8080/"
        },
        "outputId": "36aeaec0-c48f-48bf-a490-338356d886b4"
      },
      "source": [
        "from sklearn.metrics import r2_score\n",
        "r2_score(y_test, y_pred)"
      ],
      "execution_count": 19,
      "outputs": [
        {
          "output_type": "execute_result",
          "data": {
            "text/plain": [
              "0.9503369608594655"
            ]
          },
          "metadata": {},
          "execution_count": 19
        }
      ]
    }
  ]
}