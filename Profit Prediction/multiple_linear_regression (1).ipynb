{
  "nbformat": 4,
  "nbformat_minor": 0,
  "metadata": {
    "colab": {
      "provenance": []
    },
    "kernelspec": {
      "name": "python3",
      "display_name": "Python 3"
    }
  },
  "cells": [
    {
      "cell_type": "markdown",
      "metadata": {
        "id": "CazISR8X_HUG"
      },
      "source": [
        "# Multiple Linear Regression"
      ]
    },
    {
      "cell_type": "markdown",
      "metadata": {
        "id": "pOyqYHTk_Q57"
      },
      "source": [
        "## Importing the libraries"
      ]
    },
    {
      "cell_type": "code",
      "metadata": {
        "id": "T_YHJjnD_Tja"
      },
      "source": [
        "import numpy as np\n",
        "import matplotlib.pyplot as plt\n",
        "import pandas as pd"
      ],
      "execution_count": 1,
      "outputs": []
    },
    {
      "cell_type": "markdown",
      "metadata": {
        "id": "vgC61-ah_WIz"
      },
      "source": [
        "## Importing the dataset"
      ]
    },
    {
      "cell_type": "code",
      "metadata": {
        "id": "UrxyEKGn_ez7"
      },
      "source": [
        "dataset = pd.read_csv('/content/sample_data/1000_Companies.csv')\n",
        "X = dataset.iloc[:, :-1].values\n",
        "y = dataset.iloc[:, -1].values"
      ],
      "execution_count": 2,
      "outputs": []
    },
    {
      "cell_type": "code",
      "source": [
        "dataset.shape"
      ],
      "metadata": {
        "colab": {
          "base_uri": "https://localhost:8080/"
        },
        "id": "TglQ72XYSdsh",
        "outputId": "9f85ec4b-bd10-406a-90e4-4a66c1ef2275"
      },
      "execution_count": 3,
      "outputs": [
        {
          "output_type": "execute_result",
          "data": {
            "text/plain": [
              "(1000, 5)"
            ]
          },
          "metadata": {},
          "execution_count": 3
        }
      ]
    },
    {
      "cell_type": "code",
      "source": [
        "dataset.isnull().sum()"
      ],
      "metadata": {
        "colab": {
          "base_uri": "https://localhost:8080/"
        },
        "id": "wmn71u9MSeke",
        "outputId": "9c7ee974-0d94-4216-d3de-7830fa792563"
      },
      "execution_count": 4,
      "outputs": [
        {
          "output_type": "execute_result",
          "data": {
            "text/plain": [
              "R&D Spend          0\n",
              "Administration     0\n",
              "Marketing Spend    0\n",
              "State              0\n",
              "Profit             0\n",
              "dtype: int64"
            ]
          },
          "metadata": {},
          "execution_count": 4
        }
      ]
    },
    {
      "cell_type": "markdown",
      "source": [
        "## Encoding the dataset"
      ],
      "metadata": {
        "id": "gBa4IGasRCtB"
      }
    },
    {
      "cell_type": "code",
      "source": [
        "#Encoding independent variable\n",
        "from sklearn.compose import ColumnTransformer\n",
        "from sklearn.preprocessing import OneHotEncoder\n",
        "ct = ColumnTransformer(transformers=[('encoder',OneHotEncoder(),[3])],remainder='passthrough')\n",
        "X = np.array(ct.fit_transform(X))"
      ],
      "metadata": {
        "id": "w5GM3RopQ8s6"
      },
      "execution_count": 5,
      "outputs": []
    },
    {
      "cell_type": "code",
      "source": [],
      "metadata": {
        "id": "EeQGRLi2Q8yS"
      },
      "execution_count": null,
      "outputs": []
    },
    {
      "cell_type": "markdown",
      "metadata": {
        "id": "WemVnqgeA70k"
      },
      "source": [
        "## Splitting the dataset into the Training set and Test set"
      ]
    },
    {
      "cell_type": "code",
      "metadata": {
        "id": "Kb_v_ae-A-20"
      },
      "source": [
        "from sklearn.model_selection import train_test_split\n",
        "X_train, X_test, y_train, y_test = train_test_split(X, y, test_size = 0.2, random_state = 0)"
      ],
      "execution_count": 7,
      "outputs": []
    },
    {
      "cell_type": "markdown",
      "metadata": {
        "id": "k-McZVsQBINc"
      },
      "source": [
        "## Training the Multiple Linear Regression model on the Training set"
      ]
    },
    {
      "cell_type": "code",
      "metadata": {
        "id": "ywPjx0L1BMiD",
        "colab": {
          "base_uri": "https://localhost:8080/",
          "height": 74
        },
        "outputId": "6f7105f8-5c36-495b-9476-00f70622e7bd"
      },
      "source": [
        "from sklearn.linear_model import LinearRegression\n",
        "regressor = LinearRegression()\n",
        "regressor.fit(X_train, y_train)"
      ],
      "execution_count": 8,
      "outputs": [
        {
          "output_type": "execute_result",
          "data": {
            "text/plain": [
              "LinearRegression()"
            ],
            "text/html": [
              "<style>#sk-container-id-1 {color: black;background-color: white;}#sk-container-id-1 pre{padding: 0;}#sk-container-id-1 div.sk-toggleable {background-color: white;}#sk-container-id-1 label.sk-toggleable__label {cursor: pointer;display: block;width: 100%;margin-bottom: 0;padding: 0.3em;box-sizing: border-box;text-align: center;}#sk-container-id-1 label.sk-toggleable__label-arrow:before {content: \"▸\";float: left;margin-right: 0.25em;color: #696969;}#sk-container-id-1 label.sk-toggleable__label-arrow:hover:before {color: black;}#sk-container-id-1 div.sk-estimator:hover label.sk-toggleable__label-arrow:before {color: black;}#sk-container-id-1 div.sk-toggleable__content {max-height: 0;max-width: 0;overflow: hidden;text-align: left;background-color: #f0f8ff;}#sk-container-id-1 div.sk-toggleable__content pre {margin: 0.2em;color: black;border-radius: 0.25em;background-color: #f0f8ff;}#sk-container-id-1 input.sk-toggleable__control:checked~div.sk-toggleable__content {max-height: 200px;max-width: 100%;overflow: auto;}#sk-container-id-1 input.sk-toggleable__control:checked~label.sk-toggleable__label-arrow:before {content: \"▾\";}#sk-container-id-1 div.sk-estimator input.sk-toggleable__control:checked~label.sk-toggleable__label {background-color: #d4ebff;}#sk-container-id-1 div.sk-label input.sk-toggleable__control:checked~label.sk-toggleable__label {background-color: #d4ebff;}#sk-container-id-1 input.sk-hidden--visually {border: 0;clip: rect(1px 1px 1px 1px);clip: rect(1px, 1px, 1px, 1px);height: 1px;margin: -1px;overflow: hidden;padding: 0;position: absolute;width: 1px;}#sk-container-id-1 div.sk-estimator {font-family: monospace;background-color: #f0f8ff;border: 1px dotted black;border-radius: 0.25em;box-sizing: border-box;margin-bottom: 0.5em;}#sk-container-id-1 div.sk-estimator:hover {background-color: #d4ebff;}#sk-container-id-1 div.sk-parallel-item::after {content: \"\";width: 100%;border-bottom: 1px solid gray;flex-grow: 1;}#sk-container-id-1 div.sk-label:hover label.sk-toggleable__label {background-color: #d4ebff;}#sk-container-id-1 div.sk-serial::before {content: \"\";position: absolute;border-left: 1px solid gray;box-sizing: border-box;top: 0;bottom: 0;left: 50%;z-index: 0;}#sk-container-id-1 div.sk-serial {display: flex;flex-direction: column;align-items: center;background-color: white;padding-right: 0.2em;padding-left: 0.2em;position: relative;}#sk-container-id-1 div.sk-item {position: relative;z-index: 1;}#sk-container-id-1 div.sk-parallel {display: flex;align-items: stretch;justify-content: center;background-color: white;position: relative;}#sk-container-id-1 div.sk-item::before, #sk-container-id-1 div.sk-parallel-item::before {content: \"\";position: absolute;border-left: 1px solid gray;box-sizing: border-box;top: 0;bottom: 0;left: 50%;z-index: -1;}#sk-container-id-1 div.sk-parallel-item {display: flex;flex-direction: column;z-index: 1;position: relative;background-color: white;}#sk-container-id-1 div.sk-parallel-item:first-child::after {align-self: flex-end;width: 50%;}#sk-container-id-1 div.sk-parallel-item:last-child::after {align-self: flex-start;width: 50%;}#sk-container-id-1 div.sk-parallel-item:only-child::after {width: 0;}#sk-container-id-1 div.sk-dashed-wrapped {border: 1px dashed gray;margin: 0 0.4em 0.5em 0.4em;box-sizing: border-box;padding-bottom: 0.4em;background-color: white;}#sk-container-id-1 div.sk-label label {font-family: monospace;font-weight: bold;display: inline-block;line-height: 1.2em;}#sk-container-id-1 div.sk-label-container {text-align: center;}#sk-container-id-1 div.sk-container {/* jupyter's `normalize.less` sets `[hidden] { display: none; }` but bootstrap.min.css set `[hidden] { display: none !important; }` so we also need the `!important` here to be able to override the default hidden behavior on the sphinx rendered scikit-learn.org. See: https://github.com/scikit-learn/scikit-learn/issues/21755 */display: inline-block !important;position: relative;}#sk-container-id-1 div.sk-text-repr-fallback {display: none;}</style><div id=\"sk-container-id-1\" class=\"sk-top-container\"><div class=\"sk-text-repr-fallback\"><pre>LinearRegression()</pre><b>In a Jupyter environment, please rerun this cell to show the HTML representation or trust the notebook. <br />On GitHub, the HTML representation is unable to render, please try loading this page with nbviewer.org.</b></div><div class=\"sk-container\" hidden><div class=\"sk-item\"><div class=\"sk-estimator sk-toggleable\"><input class=\"sk-toggleable__control sk-hidden--visually\" id=\"sk-estimator-id-1\" type=\"checkbox\" checked><label for=\"sk-estimator-id-1\" class=\"sk-toggleable__label sk-toggleable__label-arrow\">LinearRegression</label><div class=\"sk-toggleable__content\"><pre>LinearRegression()</pre></div></div></div></div></div>"
            ]
          },
          "metadata": {},
          "execution_count": 8
        }
      ]
    },
    {
      "cell_type": "markdown",
      "metadata": {
        "id": "xNkXL1YQBiBT"
      },
      "source": [
        "## Predicting the Test set results"
      ]
    },
    {
      "cell_type": "code",
      "metadata": {
        "id": "TQKmwvtdBkyb",
        "colab": {
          "base_uri": "https://localhost:8080/"
        },
        "outputId": "c3ac9ddc-7552-4744-d650-6441c467630d"
      },
      "source": [
        "y_pred = regressor.predict(X_test)\n",
        "np.set_printoptions(precision=2)\n",
        "print(np.concatenate((y_pred.reshape(len(y_pred),1), y_test.reshape(len(y_test),1)),1))"
      ],
      "execution_count": 9,
      "outputs": [
        {
          "output_type": "stream",
          "name": "stdout",
          "text": [
            "[[ 89790.62  89012.03]\n",
            " [ 88427.07  87654.56]\n",
            " [ 94894.68  94093.35]\n",
            " [175680.87 175396.26]\n",
            " [ 83411.73  83356.62]\n",
            " [110571.9  110395.79]\n",
            " [132145.23 105008.31]\n",
            " [ 91473.38  90687.29]\n",
            " [164597.05 164180.27]\n",
            " [ 53222.83  53483.76]\n",
            " [ 66950.19  66273.35]\n",
            " [150566.44 150393.72]\n",
            " [126915.21 125971.23]\n",
            " [ 59337.86  58694.93]\n",
            " [177513.91 176344.52]\n",
            " [ 75316.28  75297.23]\n",
            " [118248.14 118219.39]\n",
            " [164574.41 163462.67]\n",
            " [170937.29 132602.65]\n",
            " [182069.12 181574.5 ]\n",
            " [118845.03  97483.56]\n",
            " [ 85669.95  84909.72]\n",
            " [180992.59 180684.33]\n",
            " [ 84145.08  83391.64]\n",
            " [105005.84 104159.47]\n",
            " [101233.57 100404.  ]\n",
            " [ 53831.08  64926.08]\n",
            " [ 56881.41  56944.49]\n",
            " [ 68896.39  68210.89]\n",
            " [210040.01 191792.06]\n",
            " [120778.72 120738.7 ]\n",
            " [111724.87 110848.57]\n",
            " [101487.91 101352.27]\n",
            " [137959.03 137842.47]\n",
            " [ 63969.96  63306.4 ]\n",
            " [108857.91 107994.38]\n",
            " [186014.73 185502.53]\n",
            " [171442.64 171176.92]\n",
            " [174644.27 174364.28]\n",
            " [117671.49 117645.31]\n",
            " [ 96731.38  96616.93]\n",
            " [165452.26 164336.61]\n",
            " [107724.34 106865.86]\n",
            " [ 50194.54  50468.96]\n",
            " [116513.9  116492.87]\n",
            " [ 58632.49  57992.71]\n",
            " [158416.47 158208.77]\n",
            " [ 78541.49  78689.62]\n",
            " [159727.67 159514.13]\n",
            " [131137.88 131051.71]\n",
            " [184880.71 184555.12]\n",
            " [174609.08 174329.25]\n",
            " [ 93745.66  92949.46]\n",
            " [ 78341.13  78308.61]\n",
            " [180745.9  180257.18]\n",
            " [ 84461.61  84583.38]\n",
            " [142900.91 142762.33]\n",
            " [170618.44 170174.83]\n",
            " [ 84365.1   84305.74]\n",
            " [105307.37 105154.72]\n",
            " [141660.07 141527.03]\n",
            " [ 52527.34  52609.82]\n",
            " [141842.96 140832.49]\n",
            " [139176.28 138872.74]\n",
            " [ 98294.53  97478.05]\n",
            " [113586.87 113578.88]\n",
            " [126754.22 126506.02]\n",
            " [152135.52 151774.25]\n",
            " [ 58864.52  58918.76]\n",
            " [174285.57 174007.18]\n",
            " [124624.04 123690.28]\n",
            " [169065.78 167934.03]\n",
            " [ 91279.33  91370.73]\n",
            " [156170.37 155791.13]\n",
            " [ 84307.27  83553.1 ]\n",
            " [ 77877.75  77847.29]\n",
            " [120414.02 120375.63]\n",
            " [ 93380.44  93280.92]\n",
            " [139020.63 138022.72]\n",
            " [143604.67 142586.35]\n",
            " [171148.31 170883.89]\n",
            " [140082.97 139080.34]\n",
            " [106369.72 106212.33]\n",
            " [155641.44 154569.49]\n",
            " [140030.1  139722.76]\n",
            " [110172.88 109998.55]\n",
            " [ 69672.99  68984.02]\n",
            " [ 88148.52  88072.31]\n",
            " [140133.6  139130.74]\n",
            " [148479.1  148134.12]\n",
            " [157916.64 157529.61]\n",
            " [ 58532.95  57893.61]\n",
            " [ 93707.38  93606.41]\n",
            " [112646.37 112642.58]\n",
            " [ 56556.19  56620.72]\n",
            " [107414.9  107252.86]\n",
            " [147352.8  147194.39]\n",
            " [152144.1  151782.79]\n",
            " [167808.12 167377.03]\n",
            " [118750.25 117842.65]\n",
            " [120763.28 120723.32]\n",
            " [139029.95 138908.62]\n",
            " [157527.91 157142.62]\n",
            " [121962.06 121916.77]\n",
            " [ 87091.32  87019.82]\n",
            " [104792.91 104824.11]\n",
            " [ 95335.23  95227.  ]\n",
            " [178389.52 177911.3 ]\n",
            " [181942.64 180753.52]\n",
            " [109831.35 109658.54]\n",
            " [165254.03 164139.26]\n",
            " [167806.06 166679.93]\n",
            " [158002.45 157615.04]\n",
            " [174782.87 174320.71]\n",
            " [170196.77 169059.98]\n",
            " [ 52302.18  51690.6 ]\n",
            " [176938.12 175771.3 ]\n",
            " [104751.84 103906.6 ]\n",
            " [ 82710.32  81963.27]\n",
            " [138890.53 138588.26]\n",
            " [144274.75 144130.05]\n",
            " [161679.02 161456.79]\n",
            " [169662.05 169404.26]\n",
            " [120450.92 120412.36]\n",
            " [158880.71 158670.95]\n",
            " [110213.73 109344.16]\n",
            " [169674.52 169235.11]\n",
            " [ 60760.61  60111.35]\n",
            " [159037.   157949.92]\n",
            " [158169.44 157086.23]\n",
            " [174511.7  174050.75]\n",
            " [156294.8  155915.  ]\n",
            " [103714.38 102873.76]\n",
            " [ 85635.96  85570.94]\n",
            " [141603.55 140594.14]\n",
            " [165917.69 165495.02]\n",
            " [121182.04 121140.22]\n",
            " [170751.88 152211.77]\n",
            " [100505.78 100556.07]\n",
            " [ 82097.51  82229.81]\n",
            " [178643.19 177468.77]\n",
            " [101790.48 100958.44]\n",
            " [ 70507.41  70509.78]\n",
            " [ 90250.04  90164.47]\n",
            " [ 61247.5   61291.13]\n",
            " [ 68912.18  68921.66]\n",
            " [ 72775.82  72949.64]\n",
            " [176914.09 175747.38]\n",
            " [ 89704.69  89803.1 ]\n",
            " [129209.44  96712.8 ]\n",
            " [ 92672.91  92758.09]\n",
            " [ 88133.59  99937.59]\n",
            " [172836.33 171687.78]\n",
            " [ 60893.62  60243.76]\n",
            " [169015.89 168760.98]\n",
            " [166450.24 165330.15]\n",
            " [165425.54 165186.63]\n",
            " [102170.52 102213.39]\n",
            " [181594.58 181102.07]\n",
            " [ 73702.58  73872.28]\n",
            " [ 91267.43  90482.26]\n",
            " [135791.54 134808.02]\n",
            " [ 64922.8   64950.06]\n",
            " [ 71775.7   71772.43]\n",
            " [ 60603.91  60650.41]\n",
            " [184288.61 183965.66]\n",
            " [176286.7  175999.39]\n",
            " [158907.76 158516.32]\n",
            " [141359.32 141046.06]\n",
            " [154611.18 154238.88]\n",
            " [ 58549.59  58605.23]\n",
            " [ 90618.58  90712.92]\n",
            " [152885.51 152520.9 ]\n",
            " [168398.05 168145.89]\n",
            " [ 72485.36  72478.93]\n",
            " [116064.24 116045.22]\n",
            " [ 80087.81  80229.06]\n",
            " [149828.91 149477.92]\n",
            " [116806.96 116603.08]\n",
            " [130191.49 129232.92]\n",
            " [174534.43 174254.93]\n",
            " [293584.46 476485.43]\n",
            " [146270.83 145240.63]\n",
            " [150646.69 150292.06]\n",
            " [ 86107.48  86221.91]\n",
            " [ 69967.21  70153.54]\n",
            " [ 70096.78  70282.54]\n",
            " [ 69033.69  68347.57]\n",
            " [120666.76 120445.68]\n",
            " [ 89677.68  89594.65]\n",
            " [166824.27 166579.12]\n",
            " [125514.77 124577.03]\n",
            " [ 67209.68  67226.74]\n",
            " [140930.69 156991.12]\n",
            " [118544.3  117637.62]\n",
            " [165897.62 164779.98]\n",
            " [168655.49 168402.18]\n",
            " [147009.67 145976.18]\n",
            " [141396.22 141082.79]\n",
            " [109086.51 108917.02]]\n"
          ]
        }
      ]
    },
    {
      "cell_type": "markdown",
      "metadata": {
        "id": "50DZZy0UyhLi"
      },
      "source": [
        "## Evaluating the Model Performance"
      ]
    },
    {
      "cell_type": "code",
      "metadata": {
        "id": "xPagAOKDywV4",
        "colab": {
          "base_uri": "https://localhost:8080/"
        },
        "outputId": "4153efdc-db13-4c5c-e5c3-5de8c2d30257"
      },
      "source": [
        "from sklearn.metrics import r2_score\n",
        "r2_score(y_test, y_pred)"
      ],
      "execution_count": 10,
      "outputs": [
        {
          "output_type": "execute_result",
          "data": {
            "text/plain": [
              "0.9112695892268727"
            ]
          },
          "metadata": {},
          "execution_count": 10
        }
      ]
    }
  ]
}