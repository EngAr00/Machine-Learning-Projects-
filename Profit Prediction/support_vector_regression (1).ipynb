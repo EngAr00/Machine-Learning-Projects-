{
  "nbformat": 4,
  "nbformat_minor": 0,
  "metadata": {
    "colab": {
      "provenance": []
    },
    "kernelspec": {
      "name": "python3",
      "display_name": "Python 3"
    }
  },
  "cells": [
    {
      "cell_type": "markdown",
      "metadata": {
        "id": "m3PAEPRDRLA3"
      },
      "source": [
        "# Support Vector Regression (SVR)"
      ]
    },
    {
      "cell_type": "markdown",
      "metadata": {
        "id": "0VCUAVIjRdzZ"
      },
      "source": [
        "## Importing the libraries"
      ]
    },
    {
      "cell_type": "code",
      "metadata": {
        "id": "56oRF-QfSDzC"
      },
      "source": [
        "import numpy as np\n",
        "import matplotlib.pyplot as plt\n",
        "import pandas as pd"
      ],
      "execution_count": 1,
      "outputs": []
    },
    {
      "cell_type": "markdown",
      "metadata": {
        "id": "fXVXoFWtSF4_"
      },
      "source": [
        "## Importing the dataset"
      ]
    },
    {
      "cell_type": "code",
      "metadata": {
        "id": "xfoa8OSORfHQ"
      },
      "source": [
        "dataset = pd.read_csv('/content/sample_data/1000_Companies.csv')\n",
        "X = dataset.iloc[:, :-1].values\n",
        "y = dataset.iloc[:, -1].values"
      ],
      "execution_count": 2,
      "outputs": []
    },
    {
      "cell_type": "code",
      "metadata": {
        "id": "_8Ny1GfPiV3m"
      },
      "source": [
        "y = y.reshape(len(y),1)"
      ],
      "execution_count": 3,
      "outputs": []
    },
    {
      "cell_type": "markdown",
      "source": [
        "##Encoding"
      ],
      "metadata": {
        "id": "1h8JLUtnYN_3"
      }
    },
    {
      "cell_type": "code",
      "source": [
        "#Encoding independent variable\n",
        "from sklearn.compose import ColumnTransformer\n",
        "from sklearn.preprocessing import OneHotEncoder\n",
        "ct = ColumnTransformer(transformers=[('encoder',OneHotEncoder(),[3])],remainder='passthrough')\n",
        "X = np.array(ct.fit_transform(X))"
      ],
      "metadata": {
        "id": "wUG3beFsYQqa"
      },
      "execution_count": 4,
      "outputs": []
    },
    {
      "cell_type": "markdown",
      "metadata": {
        "id": "6Vk3nNlrCVCN"
      },
      "source": [
        "## Splitting the dataset into the Training set and Test set"
      ]
    },
    {
      "cell_type": "code",
      "metadata": {
        "id": "x_fXqrziCV3_"
      },
      "source": [
        "from sklearn.model_selection import train_test_split\n",
        "X_train, X_test, y_train, y_test = train_test_split(X, y, test_size = 0.2, random_state = 0)"
      ],
      "execution_count": 5,
      "outputs": []
    },
    {
      "cell_type": "markdown",
      "metadata": {
        "id": "YS8FeLHYS-nI"
      },
      "source": [
        "## Feature Scaling"
      ]
    },
    {
      "cell_type": "code",
      "metadata": {
        "id": "PGeAlD1HTDI1"
      },
      "source": [
        "from sklearn.preprocessing import StandardScaler\n",
        "sc_X = StandardScaler()\n",
        "sc_y = StandardScaler()\n",
        "X_train = sc_X.fit_transform(X_train)\n",
        "y_train = sc_y.fit_transform(y_train)"
      ],
      "execution_count": 6,
      "outputs": []
    },
    {
      "cell_type": "markdown",
      "metadata": {
        "id": "eiU6D2QFRjxY"
      },
      "source": [
        "## Training the SVR model on the Training set"
      ]
    },
    {
      "cell_type": "code",
      "metadata": {
        "id": "y6R4rt_GRz15",
        "colab": {
          "base_uri": "https://localhost:8080/",
          "height": 129
        },
        "outputId": "21f93aad-0e56-44f9-faf9-7f60c66a3927"
      },
      "source": [
        "from sklearn.svm import SVR\n",
        "regressor = SVR(kernel = 'rbf')\n",
        "regressor.fit(X_train, y_train)"
      ],
      "execution_count": 7,
      "outputs": [
        {
          "output_type": "stream",
          "name": "stderr",
          "text": [
            "/usr/local/lib/python3.10/dist-packages/sklearn/utils/validation.py:1143: DataConversionWarning: A column-vector y was passed when a 1d array was expected. Please change the shape of y to (n_samples, ), for example using ravel().\n",
            "  y = column_or_1d(y, warn=True)\n"
          ]
        },
        {
          "output_type": "execute_result",
          "data": {
            "text/plain": [
              "SVR()"
            ],
            "text/html": [
              "<style>#sk-container-id-1 {color: black;background-color: white;}#sk-container-id-1 pre{padding: 0;}#sk-container-id-1 div.sk-toggleable {background-color: white;}#sk-container-id-1 label.sk-toggleable__label {cursor: pointer;display: block;width: 100%;margin-bottom: 0;padding: 0.3em;box-sizing: border-box;text-align: center;}#sk-container-id-1 label.sk-toggleable__label-arrow:before {content: \"▸\";float: left;margin-right: 0.25em;color: #696969;}#sk-container-id-1 label.sk-toggleable__label-arrow:hover:before {color: black;}#sk-container-id-1 div.sk-estimator:hover label.sk-toggleable__label-arrow:before {color: black;}#sk-container-id-1 div.sk-toggleable__content {max-height: 0;max-width: 0;overflow: hidden;text-align: left;background-color: #f0f8ff;}#sk-container-id-1 div.sk-toggleable__content pre {margin: 0.2em;color: black;border-radius: 0.25em;background-color: #f0f8ff;}#sk-container-id-1 input.sk-toggleable__control:checked~div.sk-toggleable__content {max-height: 200px;max-width: 100%;overflow: auto;}#sk-container-id-1 input.sk-toggleable__control:checked~label.sk-toggleable__label-arrow:before {content: \"▾\";}#sk-container-id-1 div.sk-estimator input.sk-toggleable__control:checked~label.sk-toggleable__label {background-color: #d4ebff;}#sk-container-id-1 div.sk-label input.sk-toggleable__control:checked~label.sk-toggleable__label {background-color: #d4ebff;}#sk-container-id-1 input.sk-hidden--visually {border: 0;clip: rect(1px 1px 1px 1px);clip: rect(1px, 1px, 1px, 1px);height: 1px;margin: -1px;overflow: hidden;padding: 0;position: absolute;width: 1px;}#sk-container-id-1 div.sk-estimator {font-family: monospace;background-color: #f0f8ff;border: 1px dotted black;border-radius: 0.25em;box-sizing: border-box;margin-bottom: 0.5em;}#sk-container-id-1 div.sk-estimator:hover {background-color: #d4ebff;}#sk-container-id-1 div.sk-parallel-item::after {content: \"\";width: 100%;border-bottom: 1px solid gray;flex-grow: 1;}#sk-container-id-1 div.sk-label:hover label.sk-toggleable__label {background-color: #d4ebff;}#sk-container-id-1 div.sk-serial::before {content: \"\";position: absolute;border-left: 1px solid gray;box-sizing: border-box;top: 0;bottom: 0;left: 50%;z-index: 0;}#sk-container-id-1 div.sk-serial {display: flex;flex-direction: column;align-items: center;background-color: white;padding-right: 0.2em;padding-left: 0.2em;position: relative;}#sk-container-id-1 div.sk-item {position: relative;z-index: 1;}#sk-container-id-1 div.sk-parallel {display: flex;align-items: stretch;justify-content: center;background-color: white;position: relative;}#sk-container-id-1 div.sk-item::before, #sk-container-id-1 div.sk-parallel-item::before {content: \"\";position: absolute;border-left: 1px solid gray;box-sizing: border-box;top: 0;bottom: 0;left: 50%;z-index: -1;}#sk-container-id-1 div.sk-parallel-item {display: flex;flex-direction: column;z-index: 1;position: relative;background-color: white;}#sk-container-id-1 div.sk-parallel-item:first-child::after {align-self: flex-end;width: 50%;}#sk-container-id-1 div.sk-parallel-item:last-child::after {align-self: flex-start;width: 50%;}#sk-container-id-1 div.sk-parallel-item:only-child::after {width: 0;}#sk-container-id-1 div.sk-dashed-wrapped {border: 1px dashed gray;margin: 0 0.4em 0.5em 0.4em;box-sizing: border-box;padding-bottom: 0.4em;background-color: white;}#sk-container-id-1 div.sk-label label {font-family: monospace;font-weight: bold;display: inline-block;line-height: 1.2em;}#sk-container-id-1 div.sk-label-container {text-align: center;}#sk-container-id-1 div.sk-container {/* jupyter's `normalize.less` sets `[hidden] { display: none; }` but bootstrap.min.css set `[hidden] { display: none !important; }` so we also need the `!important` here to be able to override the default hidden behavior on the sphinx rendered scikit-learn.org. See: https://github.com/scikit-learn/scikit-learn/issues/21755 */display: inline-block !important;position: relative;}#sk-container-id-1 div.sk-text-repr-fallback {display: none;}</style><div id=\"sk-container-id-1\" class=\"sk-top-container\"><div class=\"sk-text-repr-fallback\"><pre>SVR()</pre><b>In a Jupyter environment, please rerun this cell to show the HTML representation or trust the notebook. <br />On GitHub, the HTML representation is unable to render, please try loading this page with nbviewer.org.</b></div><div class=\"sk-container\" hidden><div class=\"sk-item\"><div class=\"sk-estimator sk-toggleable\"><input class=\"sk-toggleable__control sk-hidden--visually\" id=\"sk-estimator-id-1\" type=\"checkbox\" checked><label for=\"sk-estimator-id-1\" class=\"sk-toggleable__label sk-toggleable__label-arrow\">SVR</label><div class=\"sk-toggleable__content\"><pre>SVR()</pre></div></div></div></div></div>"
            ]
          },
          "metadata": {},
          "execution_count": 7
        }
      ]
    },
    {
      "cell_type": "markdown",
      "metadata": {
        "id": "aPYA5W1pDBOE"
      },
      "source": [
        "## Predicting the Test set results"
      ]
    },
    {
      "cell_type": "code",
      "metadata": {
        "id": "vSqFVDYrDROW",
        "colab": {
          "base_uri": "https://localhost:8080/"
        },
        "outputId": "ca8f9fd1-b552-4256-d313-6d85c3df4444"
      },
      "source": [
        "y_pred = sc_y.inverse_transform(regressor.predict(sc_X.transform(X_test)).reshape(-1,1))\n",
        "np.set_printoptions(precision=2)\n",
        "print(np.concatenate((y_pred.reshape(len(y_pred),1), y_test.reshape(len(y_test),1)),1))"
      ],
      "execution_count": 8,
      "outputs": [
        {
          "output_type": "stream",
          "name": "stdout",
          "text": [
            "[[ 87823.34  89012.03]\n",
            " [ 86158.98  87654.56]\n",
            " [ 94048.64  94093.35]\n",
            " [176342.23 175396.26]\n",
            " [ 79159.49  83356.62]\n",
            " [106377.91 110395.79]\n",
            " [134792.07 105008.31]\n",
            " [ 89878.97  90687.29]\n",
            " [163181.12 164180.27]\n",
            " [ 56171.01  53483.76]\n",
            " [ 62199.01  66273.35]\n",
            " [154390.13 150393.72]\n",
            " [129882.34 125971.23]\n",
            " [ 56036.2   58694.93]\n",
            " [176356.85 176344.52]\n",
            " [ 71320.23  75297.23]\n",
            " [118712.47 118219.39]\n",
            " [166731.14 163462.67]\n",
            " [131121.16 132602.65]\n",
            " [178839.16 181574.5 ]\n",
            " [105099.21  97483.56]\n",
            " [ 82807.12  84909.72]\n",
            " [179164.96 180684.33]\n",
            " [ 80967.11  83391.64]\n",
            " [106082.69 104159.47]\n",
            " [101661.94 100404.  ]\n",
            " [ 65541.4   64926.08]\n",
            " [ 57277.11  56944.49]\n",
            " [ 64041.24  68210.89]\n",
            " [165056.16 191792.06]\n",
            " [121547.9  120738.7 ]\n",
            " [113707.85 110848.57]\n",
            " [ 97397.93 101352.27]\n",
            " [140694.2  137842.47]\n",
            " [ 59576.28  63306.4 ]\n",
            " [110494.29 107994.38]\n",
            " [181339.43 185502.53]\n",
            " [173523.2  171176.92]\n",
            " [175696.81 174364.28]\n",
            " [118065.55 117645.31]\n",
            " [ 92622.27  96616.93]\n",
            " [167480.12 164336.61]\n",
            " [109207.23 106865.86]\n",
            " [ 55247.83  50468.96]\n",
            " [116765.92 116492.87]\n",
            " [ 55559.5   57992.71]\n",
            " [162361.02 158208.77]\n",
            " [ 74523.52  78689.62]\n",
            " [163620.79 159514.13]\n",
            " [133114.52 131051.71]\n",
            " [180682.18 184555.12]\n",
            " [175674.39 174329.25]\n",
            " [ 92651.03  92949.46]\n",
            " [ 74183.16  78308.61]\n",
            " [177898.26 180257.18]\n",
            " [ 80693.33  84583.38]\n",
            " [146137.92 142762.33]\n",
            " [169252.24 170174.83]\n",
            " [ 80112.41  84305.74]\n",
            " [101194.4  105154.72]\n",
            " [144777.17 141527.03]\n",
            " [ 55217.46  52609.82]\n",
            " [145014.1  140832.49]\n",
            " [135257.4  138872.74]\n",
            " [ 98156.45  97478.05]\n",
            " [113473.2  113578.88]\n",
            " [122339.69 126506.02]\n",
            " [149538.21 151774.25]\n",
            " [ 58403.98  58918.76]\n",
            " [175466.66 174007.18]\n",
            " [127515.11 123690.28]\n",
            " [170436.34 167934.03]\n",
            " [ 88192.67  91370.73]\n",
            " [154035.78 155791.13]\n",
            " [ 81162.19  83553.1 ]\n",
            " [ 73738.46  77847.29]\n",
            " [121139.59 120375.63]\n",
            " [ 89231.97  93280.92]\n",
            " [142179.05 138022.72]\n",
            " [146777.97 142586.35]\n",
            " [173310.29 170883.89]\n",
            " [143247.41 139080.34]\n",
            " [102244.47 106212.33]\n",
            " [158591.59 154569.49]\n",
            " [136176.93 139722.76]\n",
            " [105986.53 109998.55]\n",
            " [ 64802.6   68984.02]\n",
            " [ 83925.49  88072.31]\n",
            " [143298.29 139130.74]\n",
            " [145458.12 148134.12]\n",
            " [155968.56 157529.61]\n",
            " [ 55493.62  57893.61]\n",
            " [ 89563.39  93606.41]\n",
            " [112413.06 112642.58]\n",
            " [ 57103.22  56620.72]\n",
            " [103275.33 107252.86]\n",
            " [150969.92 147194.39]\n",
            " [149547.79 151782.79]\n",
            " [166484.85 167377.03]\n",
            " [121344.97 117842.65]\n",
            " [121530.61 120723.32]\n",
            " [141878.73 138908.62]\n",
            " [155539.43 157142.62]\n",
            " [122872.09 121916.77]\n",
            " [ 82856.18  87019.82]\n",
            " [103518.53 104824.11]\n",
            " [ 91211.71  95227.  ]\n",
            " [176104.28 177911.3 ]\n",
            " [178772.86 180753.52]\n",
            " [105651.4  109658.54]\n",
            " [167311.98 164139.26]\n",
            " [169430.36 166679.93]\n",
            " [156063.19 157615.04]\n",
            " [173088.25 174320.71]\n",
            " [171315.21 169059.98]\n",
            " [ 52090.22  51690.6 ]\n",
            " [176004.94 175771.3 ]\n",
            " [105788.06 103906.6 ]\n",
            " [ 79249.    81963.27]\n",
            " [134950.54 138588.26]\n",
            " [147638.3  144130.05]\n",
            " [165448.03 161456.79]\n",
            " [172203.29 169404.26]\n",
            " [121180.9  120412.36]\n",
            " [162809.83 158670.95]\n",
            " [112021.42 109344.16]\n",
            " [168337.23 169235.11]\n",
            " [ 57049.36  60111.35]\n",
            " [161780.41 157949.92]\n",
            " [160974.94 157086.23]\n",
            " [172849.32 174050.75]\n",
            " [154173.89 155915.  ]\n",
            " [104579.98 102873.76]\n",
            " [ 81388.48  85570.94]\n",
            " [144774.03 140594.14]\n",
            " [164556.11 165495.02]\n",
            " [121999.33 121140.22]\n",
            " [136855.05 152211.77]\n",
            " [ 98640.23 100556.07]\n",
            " [ 78180.83  82229.81]\n",
            " [177022.57 177468.77]\n",
            " [102320.47 100958.44]\n",
            " [ 67007.99  70509.78]\n",
            " [ 86055.87  90164.47]\n",
            " [ 59902.85  61291.13]\n",
            " [ 65658.39  68921.66]\n",
            " [ 68999.71  72949.64]\n",
            " [175990.08 175747.38]\n",
            " [ 86434.97  89803.1 ]\n",
            " [108352.67  96712.8 ]\n",
            " [ 89757.31  92758.09]\n",
            " [ 90808.68  99937.59]\n",
            " [173269.37 171687.78]\n",
            " [ 57147.54  60243.76]\n",
            " [171705.85 168760.98]\n",
            " [168317.7  165330.15]\n",
            " [168775.43 165186.63]\n",
            " [100535.28 102213.39]\n",
            " [178507.42 181102.07]\n",
            " [ 69847.85  73872.28]\n",
            " [ 89627.41  90482.26]\n",
            " [138922.99 134808.02]\n",
            " [ 62498.66  64950.06]\n",
            " [ 68111.91  71772.43]\n",
            " [ 59483.04  60650.41]\n",
            " [180482.44 183965.66]\n",
            " [176705.65 175999.39]\n",
            " [157059.22 158516.32]\n",
            " [137616.15 141046.06]\n",
            " [152301.29 154238.88]\n",
            " [ 58217.52  58605.23]\n",
            " [ 87453.65  90712.92]\n",
            " [150375.9  152520.9 ]\n",
            " [171221.34 168145.89]\n",
            " [ 68740.7   72478.93]\n",
            " [116260.72 116045.22]\n",
            " [ 76093.9   80229.06]\n",
            " [146962.54 149477.92]\n",
            " [112483.39 116603.08]\n",
            " [133239.19 129232.92]\n",
            " [175626.7  174254.93]\n",
            " [122993.43 476485.43]\n",
            " [149436.61 145240.63]\n",
            " [147875.29 150292.06]\n",
            " [ 82473.64  86221.91]\n",
            " [ 66536.59  70153.54]\n",
            " [ 66646.48  70282.54]\n",
            " [ 64174.79  68347.57]\n",
            " [116276.71 120445.68]\n",
            " [ 85475.23  89594.65]\n",
            " [169949.37 166579.12]\n",
            " [128437.61 124577.03]\n",
            " [ 64270.16  67226.74]\n",
            " [155463.05 156991.12]\n",
            " [121125.46 117637.62]\n",
            " [167855.77 164779.98]\n",
            " [171424.26 168402.18]\n",
            " [150170.53 145976.18]\n",
            " [137656.23 141082.79]\n",
            " [104919.97 108917.02]]\n"
          ]
        }
      ]
    },
    {
      "cell_type": "markdown",
      "metadata": {
        "id": "CMsYlps2DX1d"
      },
      "source": [
        "## Evaluating the Model Performance"
      ]
    },
    {
      "cell_type": "code",
      "metadata": {
        "id": "HxsRWlURDr6S",
        "colab": {
          "base_uri": "https://localhost:8080/"
        },
        "outputId": "aed59f33-53c8-4fb9-b933-efd4b0b9f278"
      },
      "source": [
        "from sklearn.metrics import r2_score\n",
        "r2_score(y_test, y_pred)"
      ],
      "execution_count": 9,
      "outputs": [
        {
          "output_type": "execute_result",
          "data": {
            "text/plain": [
              "0.7026891269144185"
            ]
          },
          "metadata": {},
          "execution_count": 9
        }
      ]
    }
  ]
}